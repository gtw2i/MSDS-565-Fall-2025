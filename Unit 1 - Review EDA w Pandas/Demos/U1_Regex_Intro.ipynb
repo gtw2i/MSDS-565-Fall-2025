{
 "cells": [
  {
   "attachments": {},
   "cell_type": "markdown",
   "id": "67688261-2e7b-4363-9c69-4bdd871f3df5",
   "metadata": {},
   "source": [
    "# Learning objectives\n",
    "- Introduction to regex\n",
    "\n",
    "https://www.w3schools.com/python/python_regex.asp"
   ]
  },
  {
   "cell_type": "code",
   "execution_count": 14,
   "id": "e119996c-ad22-4c11-aa3b-ef71929f42dd",
   "metadata": {},
   "outputs": [],
   "source": [
    "import re"
   ]
  },
  {
   "cell_type": "code",
   "execution_count": 15,
   "id": "1eecbefe-d240-434d-9258-07a8334d63c3",
   "metadata": {},
   "outputs": [
    {
     "name": "stdout",
     "output_type": "stream",
     "text": [
      "If you know Python,    then\n",
      "you're power level is over 9000\n"
     ]
    }
   ],
   "source": [
    "text = \"If you know Python,    then\\nyou're power level is over 9000\"\n",
    "print(text)"
   ]
  },
  {
   "cell_type": "code",
   "execution_count": 16,
   "id": "0d7f4c49-27af-4d23-ab2c-a27dc215fdf8",
   "metadata": {},
   "outputs": [
    {
     "data": {
      "text/plain": [
       "['o', 'o', 'o', 'o', 'o', 'o']"
      ]
     },
     "execution_count": 16,
     "metadata": {},
     "output_type": "execute_result"
    }
   ],
   "source": [
    "# find all o's\n",
    "re.findall(r\"o\", text)"
   ]
  },
  {
   "cell_type": "code",
   "execution_count": 17,
   "id": "5028b885-6d6a-4a90-8467-5fb8e9b029de",
   "metadata": {},
   "outputs": [
    {
     "data": {
      "text/plain": [
       "['ou', 'ou']"
      ]
     },
     "execution_count": 17,
     "metadata": {},
     "output_type": "execute_result"
    }
   ],
   "source": [
    "# find all ou's\n",
    "re.findall(r\"ou\", text)"
   ]
  },
  {
   "cell_type": "code",
   "execution_count": 18,
   "id": "d17618c5-d399-47dd-ada6-c978df2b385e",
   "metadata": {},
   "outputs": [
    {
     "data": {
      "text/plain": [
       "['9000']"
      ]
     },
     "execution_count": 18,
     "metadata": {},
     "output_type": "execute_result"
    }
   ],
   "source": [
    "# find all numbers\n",
    "re.findall(r\"\\d+\", text)"
   ]
  },
  {
   "cell_type": "code",
   "execution_count": 19,
   "id": "f9aab93c-bed6-4648-bbce-90b2ce900884",
   "metadata": {},
   "outputs": [
    {
     "data": {
      "text/plain": [
       "['90', '00']"
      ]
     },
     "execution_count": 19,
     "metadata": {},
     "output_type": "execute_result"
    }
   ],
   "source": [
    "# find all 2-digit numbers numbers\n",
    "re.findall(r\"\\d{2}\", text)"
   ]
  },
  {
   "cell_type": "code",
   "execution_count": 20,
   "id": "2a16d186-e720-4f96-90f1-45c0c61bc4dd",
   "metadata": {},
   "outputs": [
    {
     "data": {
      "text/plain": [
       "['I',\n",
       " 'f',\n",
       " 'y',\n",
       " 'o',\n",
       " 'u',\n",
       " 'k',\n",
       " 'n',\n",
       " 'o',\n",
       " 'w',\n",
       " 'P',\n",
       " 'y',\n",
       " 't',\n",
       " 'h',\n",
       " 'o',\n",
       " 'n',\n",
       " 't',\n",
       " 'h',\n",
       " 'e',\n",
       " 'n',\n",
       " 'y',\n",
       " 'o',\n",
       " 'u',\n",
       " 'r',\n",
       " 'e',\n",
       " 'p',\n",
       " 'o',\n",
       " 'w',\n",
       " 'e',\n",
       " 'r',\n",
       " 'l',\n",
       " 'e',\n",
       " 'v',\n",
       " 'e',\n",
       " 'l',\n",
       " 'i',\n",
       " 's',\n",
       " 'o',\n",
       " 'v',\n",
       " 'e',\n",
       " 'r',\n",
       " '9',\n",
       " '0',\n",
       " '0',\n",
       " '0']"
      ]
     },
     "execution_count": 20,
     "metadata": {},
     "output_type": "execute_result"
    }
   ],
   "source": [
    "# find all word characters\n",
    "re.findall(r\"\\w\", text)"
   ]
  },
  {
   "cell_type": "code",
   "execution_count": 21,
   "id": "390ac746-abe5-448e-a3f7-e5232ca5ae63",
   "metadata": {},
   "outputs": [
    {
     "data": {
      "text/plain": [
       "['If',\n",
       " 'you',\n",
       " 'know',\n",
       " 'Python',\n",
       " 'then',\n",
       " 'you',\n",
       " 're',\n",
       " 'power',\n",
       " 'level',\n",
       " 'is',\n",
       " 'over',\n",
       " '9000']"
      ]
     },
     "execution_count": 21,
     "metadata": {},
     "output_type": "execute_result"
    }
   ],
   "source": [
    "# find all words (no contractions)\n",
    "re.findall(r\"\\w+\", text)"
   ]
  },
  {
   "cell_type": "code",
   "execution_count": 22,
   "id": "55d5bff6-c5b2-49e0-8248-917173a26d6f",
   "metadata": {},
   "outputs": [
    {
     "data": {
      "text/plain": [
       "['If',\n",
       " 'you',\n",
       " 'know',\n",
       " 'Python,',\n",
       " 'then',\n",
       " \"you're\",\n",
       " 'power',\n",
       " 'level',\n",
       " 'is',\n",
       " 'over',\n",
       " '9000']"
      ]
     },
     "execution_count": 22,
     "metadata": {},
     "output_type": "execute_result"
    }
   ],
   "source": [
    "# find all non-space characters\n",
    "re.findall(r\"\\S+\", text)"
   ]
  },
  {
   "cell_type": "code",
   "execution_count": 23,
   "id": "71c41d0b-c133-4efd-8e5c-c9ccd5c65f08",
   "metadata": {},
   "outputs": [
    {
     "data": {
      "text/plain": [
       "['If',\n",
       " 'you',\n",
       " 'know',\n",
       " 'Python',\n",
       " 'then',\n",
       " \"you're\",\n",
       " 'power',\n",
       " 'level',\n",
       " 'is',\n",
       " 'over',\n",
       " '9000']"
      ]
     },
     "execution_count": 23,
     "metadata": {},
     "output_type": "execute_result"
    }
   ],
   "source": [
    "# find all words (with contractions)\n",
    "re.findall(r\"[\\w']+\", text)"
   ]
  },
  {
   "cell_type": "code",
   "execution_count": 24,
   "id": "e4bb1d0a-9b20-4150-98bc-973a942fa582",
   "metadata": {},
   "outputs": [
    {
     "data": {
      "text/plain": [
       "['9000', '60']"
      ]
     },
     "execution_count": 24,
     "metadata": {},
     "output_type": "execute_result"
    }
   ],
   "source": [
    "# capture only digits using parentheses\n",
    "text = \"If you know Python,    then\\nyou're 4654 power level is over 9000. over 60\"\n",
    "\n",
    "re.findall(r\"over (\\d+)\", text)"
   ]
  },
  {
   "cell_type": "code",
   "execution_count": 25,
   "id": "c15179d0-e31d-4647-b0f5-b9c9c9b2eb34",
   "metadata": {},
   "outputs": [
    {
     "data": {
      "text/plain": [
       "['(615) 555-1234', '(012) 345-6789']"
      ]
     },
     "execution_count": 25,
     "metadata": {},
     "output_type": "execute_result"
    }
   ],
   "source": [
    "# find phone numbers\n",
    "text = \"my number is (615) 555-1234. her number is (012) 345-6789\"\n",
    "\n",
    "re.findall(r\"\\(\\d{3}\\) \\d{3}-\\d{4}\", text)"
   ]
  },
  {
   "cell_type": "code",
   "execution_count": 26,
   "id": "f4bde03f-212e-4dc7-a2c6-72352dd8b214",
   "metadata": {},
   "outputs": [
    {
     "data": {
      "text/plain": [
       "[2.21, 1.99, 33080.01]"
      ]
     },
     "execution_count": 26,
     "metadata": {},
     "output_type": "execute_result"
    }
   ],
   "source": [
    "# find prices\n",
    "text = \"I made $12.21 she made $4,001.99 he made $1,033,080.01\"\n",
    "\n",
    "matches = re.findall(r\"\\$([\\d,]+\\.\\d{2})\", text)\n",
    "matches = [ re.sub(',', '', m) for m in matches ]\n",
    "matches = [ float(m[1:]) for m in matches ]\n",
    "matches"
   ]
  }
 ],
 "metadata": {
  "kernelspec": {
   "display_name": "Python 3 (ipykernel)",
   "language": "python",
   "name": "python3"
  },
  "language_info": {
   "codemirror_mode": {
    "name": "ipython",
    "version": 3
   },
   "file_extension": ".py",
   "mimetype": "text/x-python",
   "name": "python",
   "nbconvert_exporter": "python",
   "pygments_lexer": "ipython3",
   "version": "3.12.3"
  }
 },
 "nbformat": 4,
 "nbformat_minor": 5
}
