{
 "cells": [
  {
   "cell_type": "code",
   "execution_count": 1,
   "id": "c20db001-5287-4572-bed1-5b17967ef230",
   "metadata": {},
   "outputs": [],
   "source": [
    "import numpy as np\n",
    "import pandas as pd\n",
    "import matplotlib.pyplot as plt\n",
    "import seaborn as sns\n",
    "import re\n",
    "\n",
    "pd.set_option('display.max_columns',100)\n",
    "pd.set_option('display.max_rows',100)\n",
    "\n",
    "plt.style.use('dark_background')"
   ]
  },
  {
   "cell_type": "code",
   "execution_count": 1,
   "id": "4a2e09c1-b291-423e-9c3f-3756c0d78dd7",
   "metadata": {},
   "outputs": [
    {
     "name": "stdout",
     "output_type": "stream",
     "text": [
      "r3a10wnahmplynq9tki_0002,0.9459459459459459,35,37\t-9.93853,-4.5805,3.27377,-0.50008,-2.45565,-1.07799,23.33004,24.69427,3.49825,5.32056,309.6923,36.8125,41.78471,51.42857,0.3,0.3,0.0,0.0,0.0,0.0,0.0,0.0,0.94594,0,0,0.18901,-22.47999,9.02372,0.0,1.0,0.0,0.0,0.0,0.0\n",
      "\n"
     ]
    }
   ],
   "source": [
    "data_folder = 'C:/Users/Graham West/Python Notebooks/Meharry Teaching/Datasets/'\n",
    "\n",
    "file_path = data_folder + 'Text Processing/587722984435351614_combined.txt'\n",
    "\n",
    "with open(file_path,'r') as f:\n",
    "    lines = f.readlines()\n",
    "# end\n",
    "\n",
    "lines = lines[:1294]\n",
    "print(lines[0])"
   ]
  },
  {
   "cell_type": "markdown",
   "id": "0aa331ca-a967-4061-a3ba-848d6fc36058",
   "metadata": {},
   "source": [
    "# Without Regex"
   ]
  },
  {
   "cell_type": "code",
   "execution_count": 3,
   "id": "3a8d455d-6e79-46d0-82f6-2f51f6cdc3ee",
   "metadata": {},
   "outputs": [
    {
     "data": {
      "text/plain": [
       "array([[ 9.45945946e-01,  3.50000000e+01,  3.70000000e+01,\n",
       "        -9.93853000e+00, -4.58050000e+00,  3.27377000e+00,\n",
       "        -5.00080000e-01, -2.45565000e+00, -1.07799000e+00,\n",
       "         2.33300400e+01,  2.46942700e+01,  3.49825000e+00,\n",
       "         5.32056000e+00,  3.09692300e+02,  3.68125000e+01,\n",
       "         4.17847100e+01,  5.14285700e+01,  3.00000000e-01,\n",
       "         3.00000000e-01,  0.00000000e+00,  0.00000000e+00,\n",
       "         0.00000000e+00,  0.00000000e+00,  0.00000000e+00,\n",
       "         0.00000000e+00,  9.45940000e-01,  0.00000000e+00,\n",
       "         0.00000000e+00,  1.89010000e-01, -2.24799900e+01,\n",
       "         9.02372000e+00,  0.00000000e+00,  1.00000000e+00,\n",
       "         0.00000000e+00,  0.00000000e+00,  0.00000000e+00,\n",
       "         0.00000000e+00],\n",
       "       [ 9.41176471e-01,  3.20000000e+01,  3.40000000e+01,\n",
       "        -9.93853000e+00, -4.58050000e+00,  2.08441100e+01,\n",
       "        -1.74126000e+00, -2.76980000e+00,  6.11683000e+00,\n",
       "         2.70229900e+01,  2.30854200e+01,  3.49716000e+00,\n",
       "         4.74238000e+00,  2.99833080e+02,  2.44816600e+01,\n",
       "         4.59487400e+01,  3.02745630e+02,  3.00000000e-01,\n",
       "         3.00000000e-01,  0.00000000e+00,  0.00000000e+00,\n",
       "         0.00000000e+00,  0.00000000e+00,  0.00000000e+00,\n",
       "         0.00000000e+00,  9.41170000e-01,  0.00000000e+00,\n",
       "         0.00000000e+00,  2.12510000e-01, -3.49999000e+00,\n",
       "         5.59380000e+00,  0.00000000e+00,  0.00000000e+00,\n",
       "         1.00000000e+00,  1.00000000e+00,  0.00000000e+00,\n",
       "         0.00000000e+00]])"
      ]
     },
     "execution_count": 3,
     "metadata": {},
     "output_type": "execute_result"
    }
   ],
   "source": [
    "data = []\n",
    "for line in lines:\n",
    "    x = line.split(\"\\t\")[0]\n",
    "    y = line.split(\"\\t\")[1]\n",
    "    x = x.split(',')[1:]\n",
    "    y = y.split(',')\n",
    "    x = x + y\n",
    "    x = np.array(x).astype(float)\n",
    "    data.append(x)\n",
    "# end\n",
    "data = np.array(data)\n",
    "data[:2]"
   ]
  },
  {
   "cell_type": "markdown",
   "id": "367f83ff-8492-4be9-b57e-60291c59359a",
   "metadata": {},
   "source": [
    "# With Regex"
   ]
  },
  {
   "cell_type": "code",
   "execution_count": 4,
   "id": "1927a55f-8327-4954-9158-8c6e5d90fd1b",
   "metadata": {},
   "outputs": [
    {
     "data": {
      "text/plain": [
       "array([[ 9.45945946e-01,  3.50000000e+01,  3.70000000e+01,\n",
       "        -9.93853000e+00, -4.58050000e+00,  3.27377000e+00,\n",
       "        -5.00080000e-01, -2.45565000e+00, -1.07799000e+00,\n",
       "         2.33300400e+01,  2.46942700e+01,  3.49825000e+00,\n",
       "         5.32056000e+00,  3.09692300e+02,  3.68125000e+01,\n",
       "         4.17847100e+01,  5.14285700e+01,  3.00000000e-01,\n",
       "         3.00000000e-01,  0.00000000e+00,  0.00000000e+00,\n",
       "         0.00000000e+00,  0.00000000e+00,  0.00000000e+00,\n",
       "         0.00000000e+00,  9.45940000e-01,  0.00000000e+00,\n",
       "         0.00000000e+00,  1.89010000e-01, -2.24799900e+01,\n",
       "         9.02372000e+00,  0.00000000e+00,  1.00000000e+00,\n",
       "         0.00000000e+00,  0.00000000e+00,  0.00000000e+00,\n",
       "         0.00000000e+00],\n",
       "       [ 9.41176471e-01,  3.20000000e+01,  3.40000000e+01,\n",
       "        -9.93853000e+00, -4.58050000e+00,  2.08441100e+01,\n",
       "        -1.74126000e+00, -2.76980000e+00,  6.11683000e+00,\n",
       "         2.70229900e+01,  2.30854200e+01,  3.49716000e+00,\n",
       "         4.74238000e+00,  2.99833080e+02,  2.44816600e+01,\n",
       "         4.59487400e+01,  3.02745630e+02,  3.00000000e-01,\n",
       "         3.00000000e-01,  0.00000000e+00,  0.00000000e+00,\n",
       "         0.00000000e+00,  0.00000000e+00,  0.00000000e+00,\n",
       "         0.00000000e+00,  9.41170000e-01,  0.00000000e+00,\n",
       "         0.00000000e+00,  2.12510000e-01, -3.49999000e+00,\n",
       "         5.59380000e+00,  0.00000000e+00,  0.00000000e+00,\n",
       "         1.00000000e+00,  1.00000000e+00,  0.00000000e+00,\n",
       "         0.00000000e+00]])"
      ]
     },
     "execution_count": 4,
     "metadata": {},
     "output_type": "execute_result"
    }
   ],
   "source": [
    "data = [ re.findall(r\"[\\-\\w\\.]+\", line) for line in lines ]\n",
    "data = np.array(data)[:,1:].astype(float)\n",
    "data[:2]"
   ]
  },
  {
   "cell_type": "code",
   "execution_count": null,
   "id": "bc11bf1b-9246-46ab-a801-353c9a023e6f",
   "metadata": {},
   "outputs": [],
   "source": []
  }
 ],
 "metadata": {
  "kernelspec": {
   "display_name": "Python 3 (ipykernel)",
   "language": "python",
   "name": "python3"
  },
  "language_info": {
   "codemirror_mode": {
    "name": "ipython",
    "version": 3
   },
   "file_extension": ".py",
   "mimetype": "text/x-python",
   "name": "python",
   "nbconvert_exporter": "python",
   "pygments_lexer": "ipython3",
   "version": "3.12.3"
  }
 },
 "nbformat": 4,
 "nbformat_minor": 5
}
