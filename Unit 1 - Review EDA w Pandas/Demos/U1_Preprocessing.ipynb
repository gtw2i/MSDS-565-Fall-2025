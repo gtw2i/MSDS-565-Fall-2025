{
 "cells": [
  {
   "cell_type": "markdown",
   "id": "aa0d2dee-ec6d-4e0c-bfc0-72e694904fd0",
   "metadata": {},
   "source": [
    "# https://scikit-learn.org/stable/modules/classes.html#module-sklearn.preprocessing"
   ]
  },
  {
   "cell_type": "code",
   "execution_count": 11,
   "id": "e41242f1-5882-476a-b182-27e597152bb8",
   "metadata": {},
   "outputs": [],
   "source": [
    "import numpy as np\n",
    "import pandas as pd\n",
    "import matplotlib.pyplot as plt\n",
    "import seaborn as sns\n",
    "\n",
    "pd.set_option('display.max_columns',100)\n",
    "pd.set_option('display.max_rows',100)\n",
    "\n",
    "plt.style.use('dark_background')"
   ]
  },
  {
   "cell_type": "markdown",
   "id": "70e5875d-2d60-4944-8e72-e2ab8ea649f8",
   "metadata": {},
   "source": [
    "# Preprocessing numerical data"
   ]
  },
  {
   "cell_type": "markdown",
   "id": "f156d5da-950b-478e-8278-2b7bcf4928ea",
   "metadata": {},
   "source": [
    "### Create data"
   ]
  },
  {
   "cell_type": "code",
   "execution_count": 12,
   "id": "dc0d2d47-9068-46d4-b40b-d366fd88391d",
   "metadata": {},
   "outputs": [
    {
     "data": {
      "text/html": [
       "<div>\n",
       "<style scoped>\n",
       "    .dataframe tbody tr th:only-of-type {\n",
       "        vertical-align: middle;\n",
       "    }\n",
       "\n",
       "    .dataframe tbody tr th {\n",
       "        vertical-align: top;\n",
       "    }\n",
       "\n",
       "    .dataframe thead th {\n",
       "        text-align: right;\n",
       "    }\n",
       "</style>\n",
       "<table border=\"1\" class=\"dataframe\">\n",
       "  <thead>\n",
       "    <tr style=\"text-align: right;\">\n",
       "      <th></th>\n",
       "      <th>0</th>\n",
       "      <th>1</th>\n",
       "    </tr>\n",
       "  </thead>\n",
       "  <tbody>\n",
       "    <tr>\n",
       "      <th>0</th>\n",
       "      <td>1.379795</td>\n",
       "      <td>2.061647</td>\n",
       "    </tr>\n",
       "    <tr>\n",
       "      <th>1</th>\n",
       "      <td>0.804198</td>\n",
       "      <td>0.299519</td>\n",
       "    </tr>\n",
       "    <tr>\n",
       "      <th>2</th>\n",
       "      <td>0.799705</td>\n",
       "      <td>0.861128</td>\n",
       "    </tr>\n",
       "    <tr>\n",
       "      <th>3</th>\n",
       "      <td>1.553415</td>\n",
       "      <td>1.879004</td>\n",
       "    </tr>\n",
       "    <tr>\n",
       "      <th>4</th>\n",
       "      <td>0.797103</td>\n",
       "      <td>0.654313</td>\n",
       "    </tr>\n",
       "    <tr>\n",
       "      <th>...</th>\n",
       "      <td>...</td>\n",
       "      <td>...</td>\n",
       "    </tr>\n",
       "    <tr>\n",
       "      <th>995</th>\n",
       "      <td>2.244560</td>\n",
       "      <td>3.413660</td>\n",
       "    </tr>\n",
       "    <tr>\n",
       "      <th>996</th>\n",
       "      <td>0.774883</td>\n",
       "      <td>0.295796</td>\n",
       "    </tr>\n",
       "    <tr>\n",
       "      <th>997</th>\n",
       "      <td>1.149222</td>\n",
       "      <td>1.256455</td>\n",
       "    </tr>\n",
       "    <tr>\n",
       "      <th>998</th>\n",
       "      <td>1.581305</td>\n",
       "      <td>1.544629</td>\n",
       "    </tr>\n",
       "    <tr>\n",
       "      <th>999</th>\n",
       "      <td>1.013129</td>\n",
       "      <td>1.245992</td>\n",
       "    </tr>\n",
       "  </tbody>\n",
       "</table>\n",
       "<p>1000 rows × 2 columns</p>\n",
       "</div>"
      ],
      "text/plain": [
       "            0         1\n",
       "0    1.379795  2.061647\n",
       "1    0.804198  0.299519\n",
       "2    0.799705  0.861128\n",
       "3    1.553415  1.879004\n",
       "4    0.797103  0.654313\n",
       "..        ...       ...\n",
       "995  2.244560  3.413660\n",
       "996  0.774883  0.295796\n",
       "997  1.149222  1.256455\n",
       "998  1.581305  1.544629\n",
       "999  1.013129  1.245992\n",
       "\n",
       "[1000 rows x 2 columns]"
      ]
     },
     "execution_count": 12,
     "metadata": {},
     "output_type": "execute_result"
    }
   ],
   "source": [
    "nPts= 1000\n",
    "\n",
    "a = np.random.normal( 1, 0.5, nPts)\n",
    "b = np.random.normal(-1, 0.25, nPts) + a*2\n",
    "X = np.array([a,b]).T\n",
    "\n",
    "df_X = pd.DataFrame(X)\n",
    "df_X"
   ]
  },
  {
   "cell_type": "code",
   "execution_count": 13,
   "id": "868d042a-1bc8-4a91-8dde-954a39efcfd0",
   "metadata": {},
   "outputs": [
    {
     "data": {
      "text/html": [
       "<div>\n",
       "<style scoped>\n",
       "    .dataframe tbody tr th:only-of-type {\n",
       "        vertical-align: middle;\n",
       "    }\n",
       "\n",
       "    .dataframe tbody tr th {\n",
       "        vertical-align: top;\n",
       "    }\n",
       "\n",
       "    .dataframe thead th {\n",
       "        text-align: right;\n",
       "    }\n",
       "</style>\n",
       "<table border=\"1\" class=\"dataframe\">\n",
       "  <thead>\n",
       "    <tr style=\"text-align: right;\">\n",
       "      <th></th>\n",
       "      <th>count</th>\n",
       "      <th>mean</th>\n",
       "      <th>std</th>\n",
       "      <th>min</th>\n",
       "      <th>25%</th>\n",
       "      <th>50%</th>\n",
       "      <th>75%</th>\n",
       "      <th>max</th>\n",
       "    </tr>\n",
       "  </thead>\n",
       "  <tbody>\n",
       "    <tr>\n",
       "      <th>0</th>\n",
       "      <td>1000.0</td>\n",
       "      <td>0.986399</td>\n",
       "      <td>0.503816</td>\n",
       "      <td>-1.195119</td>\n",
       "      <td>0.644535</td>\n",
       "      <td>0.996260</td>\n",
       "      <td>1.331994</td>\n",
       "      <td>2.468052</td>\n",
       "    </tr>\n",
       "    <tr>\n",
       "      <th>1</th>\n",
       "      <td>1000.0</td>\n",
       "      <td>0.977391</td>\n",
       "      <td>1.035921</td>\n",
       "      <td>-3.332914</td>\n",
       "      <td>0.264690</td>\n",
       "      <td>0.992398</td>\n",
       "      <td>1.675226</td>\n",
       "      <td>4.304776</td>\n",
       "    </tr>\n",
       "  </tbody>\n",
       "</table>\n",
       "</div>"
      ],
      "text/plain": [
       "    count      mean       std       min       25%       50%       75%  \\\n",
       "0  1000.0  0.986399  0.503816 -1.195119  0.644535  0.996260  1.331994   \n",
       "1  1000.0  0.977391  1.035921 -3.332914  0.264690  0.992398  1.675226   \n",
       "\n",
       "        max  \n",
       "0  2.468052  \n",
       "1  4.304776  "
      ]
     },
     "metadata": {},
     "output_type": "display_data"
    },
    {
     "data": {
      "text/html": [
       "<div>\n",
       "<style scoped>\n",
       "    .dataframe tbody tr th:only-of-type {\n",
       "        vertical-align: middle;\n",
       "    }\n",
       "\n",
       "    .dataframe tbody tr th {\n",
       "        vertical-align: top;\n",
       "    }\n",
       "\n",
       "    .dataframe thead th {\n",
       "        text-align: right;\n",
       "    }\n",
       "</style>\n",
       "<table border=\"1\" class=\"dataframe\">\n",
       "  <thead>\n",
       "    <tr style=\"text-align: right;\">\n",
       "      <th></th>\n",
       "      <th>0</th>\n",
       "      <th>1</th>\n",
       "    </tr>\n",
       "  </thead>\n",
       "  <tbody>\n",
       "    <tr>\n",
       "      <th>0</th>\n",
       "      <td>1.000000</td>\n",
       "      <td>0.970134</td>\n",
       "    </tr>\n",
       "    <tr>\n",
       "      <th>1</th>\n",
       "      <td>0.970134</td>\n",
       "      <td>1.000000</td>\n",
       "    </tr>\n",
       "  </tbody>\n",
       "</table>\n",
       "</div>"
      ],
      "text/plain": [
       "          0         1\n",
       "0  1.000000  0.970134\n",
       "1  0.970134  1.000000"
      ]
     },
     "metadata": {},
     "output_type": "display_data"
    },
    {
     "data": {
      "image/png": "[encoded data removed]",
      "text/plain": [
       "<Figure size 640x480 with 1 Axes>"
      ]
     },
     "metadata": {},
     "output_type": "display_data"
    }
   ],
   "source": [
    "display(df_X.describe().T)\n",
    "display(df_X.corr())\n",
    "\n",
    "plt.plot( X[:,0], X[:,1], '.' )\n",
    "plt.xlim(-6,6)\n",
    "plt.ylim(-6,6)\n",
    "plt.gca().set_aspect('equal')"
   ]
  },
  {
   "cell_type": "markdown",
   "id": "40bb0202-6e7e-485b-b882-a7d10affb276",
   "metadata": {},
   "source": [
    "### Standard scaler (convert to z-score: mean=0, std=1)"
   ]
  },
  {
   "cell_type": "code",
   "execution_count": 14,
   "id": "8f284f06-44a1-4be1-9bb6-d98fbd56942d",
   "metadata": {},
   "outputs": [
    {
     "data": {
      "text/html": [
       "<div>\n",
       "<style scoped>\n",
       "    .dataframe tbody tr th:only-of-type {\n",
       "        vertical-align: middle;\n",
       "    }\n",
       "\n",
       "    .dataframe tbody tr th {\n",
       "        vertical-align: top;\n",
       "    }\n",
       "\n",
       "    .dataframe thead th {\n",
       "        text-align: right;\n",
       "    }\n",
       "</style>\n",
       "<table border=\"1\" class=\"dataframe\">\n",
       "  <thead>\n",
       "    <tr style=\"text-align: right;\">\n",
       "      <th></th>\n",
       "      <th>count</th>\n",
       "      <th>mean</th>\n",
       "      <th>std</th>\n",
       "      <th>min</th>\n",
       "      <th>25%</th>\n",
       "      <th>50%</th>\n",
       "      <th>75%</th>\n",
       "      <th>max</th>\n",
       "    </tr>\n",
       "  </thead>\n",
       "  <tbody>\n",
       "    <tr>\n",
       "      <th>0</th>\n",
       "      <td>1000.0</td>\n",
       "      <td>7.993606e-17</td>\n",
       "      <td>1.0005</td>\n",
       "      <td>-4.332156</td>\n",
       "      <td>-0.678888</td>\n",
       "      <td>0.019582</td>\n",
       "      <td>0.686298</td>\n",
       "      <td>2.942333</td>\n",
       "    </tr>\n",
       "    <tr>\n",
       "      <th>1</th>\n",
       "      <td>1000.0</td>\n",
       "      <td>-3.552714e-18</td>\n",
       "      <td>1.0005</td>\n",
       "      <td>-4.162925</td>\n",
       "      <td>-0.688332</td>\n",
       "      <td>0.014494</td>\n",
       "      <td>0.673975</td>\n",
       "      <td>3.213614</td>\n",
       "    </tr>\n",
       "  </tbody>\n",
       "</table>\n",
       "</div>"
      ],
      "text/plain": [
       "    count          mean     std       min       25%       50%       75%  \\\n",
       "0  1000.0  7.993606e-17  1.0005 -4.332156 -0.678888  0.019582  0.686298   \n",
       "1  1000.0 -3.552714e-18  1.0005 -4.162925 -0.688332  0.014494  0.673975   \n",
       "\n",
       "        max  \n",
       "0  2.942333  \n",
       "1  3.213614  "
      ]
     },
     "metadata": {},
     "output_type": "display_data"
    },
    {
     "data": {
      "text/html": [
       "<div>\n",
       "<style scoped>\n",
       "    .dataframe tbody tr th:only-of-type {\n",
       "        vertical-align: middle;\n",
       "    }\n",
       "\n",
       "    .dataframe tbody tr th {\n",
       "        vertical-align: top;\n",
       "    }\n",
       "\n",
       "    .dataframe thead th {\n",
       "        text-align: right;\n",
       "    }\n",
       "</style>\n",
       "<table border=\"1\" class=\"dataframe\">\n",
       "  <thead>\n",
       "    <tr style=\"text-align: right;\">\n",
       "      <th></th>\n",
       "      <th>0</th>\n",
       "      <th>1</th>\n",
       "    </tr>\n",
       "  </thead>\n",
       "  <tbody>\n",
       "    <tr>\n",
       "      <th>0</th>\n",
       "      <td>1.000000</td>\n",
       "      <td>0.970134</td>\n",
       "    </tr>\n",
       "    <tr>\n",
       "      <th>1</th>\n",
       "      <td>0.970134</td>\n",
       "      <td>1.000000</td>\n",
       "    </tr>\n",
       "  </tbody>\n",
       "</table>\n",
       "</div>"
      ],
      "text/plain": [
       "          0         1\n",
       "0  1.000000  0.970134\n",
       "1  0.970134  1.000000"
      ]
     },
     "metadata": {},
     "output_type": "display_data"
    },
    {
     "data": {
      "image/png": "[encoded data removed]",
      "text/plain": [
       "<Figure size 640x480 with 1 Axes>"
      ]
     },
     "metadata": {},
     "output_type": "display_data"
    }
   ],
   "source": [
    "from sklearn.preprocessing import StandardScaler\n",
    "\n",
    "scaler = StandardScaler()\n",
    "X1 = scaler.fit_transform(X)\n",
    "\n",
    "df_X1 = pd.DataFrame(X1)\n",
    "display(df_X1.describe().T)\n",
    "display(df_X1.corr())\n",
    "\n",
    "plt.plot( X1[:,0], X1[:,1], '.' )\n",
    "plt.xlim(-6,6)\n",
    "plt.ylim(-6,6)\n",
    "plt.gca().set_aspect('equal')"
   ]
  },
  {
   "cell_type": "markdown",
   "id": "d302165d-d89f-4971-a44d-23c8852c6b32",
   "metadata": {},
   "source": [
    "### Min max scaler (scale values to between 0 - 1)"
   ]
  },
  {
   "cell_type": "code",
   "execution_count": 8,
   "id": "a31b5220-5508-4960-94b2-3fa265b86d4e",
   "metadata": {},
   "outputs": [
    {
     "data": {
      "text/html": [
       "<div>\n",
       "<style scoped>\n",
       "    .dataframe tbody tr th:only-of-type {\n",
       "        vertical-align: middle;\n",
       "    }\n",
       "\n",
       "    .dataframe tbody tr th {\n",
       "        vertical-align: top;\n",
       "    }\n",
       "\n",
       "    .dataframe thead th {\n",
       "        text-align: right;\n",
       "    }\n",
       "</style>\n",
       "<table border=\"1\" class=\"dataframe\">\n",
       "  <thead>\n",
       "    <tr style=\"text-align: right;\">\n",
       "      <th></th>\n",
       "      <th>count</th>\n",
       "      <th>mean</th>\n",
       "      <th>std</th>\n",
       "      <th>min</th>\n",
       "      <th>25%</th>\n",
       "      <th>50%</th>\n",
       "      <th>75%</th>\n",
       "      <th>max</th>\n",
       "    </tr>\n",
       "  </thead>\n",
       "  <tbody>\n",
       "    <tr>\n",
       "      <th>0</th>\n",
       "      <td>1000.0</td>\n",
       "      <td>0.527044</td>\n",
       "      <td>0.176621</td>\n",
       "      <td>0.0</td>\n",
       "      <td>0.409776</td>\n",
       "      <td>0.526206</td>\n",
       "      <td>0.644771</td>\n",
       "      <td>1.0</td>\n",
       "    </tr>\n",
       "    <tr>\n",
       "      <th>1</th>\n",
       "      <td>1000.0</td>\n",
       "      <td>0.523830</td>\n",
       "      <td>0.165548</td>\n",
       "      <td>0.0</td>\n",
       "      <td>0.415095</td>\n",
       "      <td>0.520521</td>\n",
       "      <td>0.633375</td>\n",
       "      <td>1.0</td>\n",
       "    </tr>\n",
       "  </tbody>\n",
       "</table>\n",
       "</div>"
      ],
      "text/plain": [
       "    count      mean       std  min       25%       50%       75%  max\n",
       "0  1000.0  0.527044  0.176621  0.0  0.409776  0.526206  0.644771  1.0\n",
       "1  1000.0  0.523830  0.165548  0.0  0.415095  0.520521  0.633375  1.0"
      ]
     },
     "metadata": {},
     "output_type": "display_data"
    },
    {
     "data": {
      "text/html": [
       "<div>\n",
       "<style scoped>\n",
       "    .dataframe tbody tr th:only-of-type {\n",
       "        vertical-align: middle;\n",
       "    }\n",
       "\n",
       "    .dataframe tbody tr th {\n",
       "        vertical-align: top;\n",
       "    }\n",
       "\n",
       "    .dataframe thead th {\n",
       "        text-align: right;\n",
       "    }\n",
       "</style>\n",
       "<table border=\"1\" class=\"dataframe\">\n",
       "  <thead>\n",
       "    <tr style=\"text-align: right;\">\n",
       "      <th></th>\n",
       "      <th>0</th>\n",
       "      <th>1</th>\n",
       "    </tr>\n",
       "  </thead>\n",
       "  <tbody>\n",
       "    <tr>\n",
       "      <th>0</th>\n",
       "      <td>1.000000</td>\n",
       "      <td>0.972249</td>\n",
       "    </tr>\n",
       "    <tr>\n",
       "      <th>1</th>\n",
       "      <td>0.972249</td>\n",
       "      <td>1.000000</td>\n",
       "    </tr>\n",
       "  </tbody>\n",
       "</table>\n",
       "</div>"
      ],
      "text/plain": [
       "          0         1\n",
       "0  1.000000  0.972249\n",
       "1  0.972249  1.000000"
      ]
     },
     "metadata": {},
     "output_type": "display_data"
    },
    {
     "data": {
      "image/png": "[encoded data removed]",
      "text/plain": [
       "<Figure size 640x480 with 1 Axes>"
      ]
     },
     "metadata": {},
     "output_type": "display_data"
    }
   ],
   "source": [
    "from sklearn.preprocessing import MinMaxScaler\n",
    "\n",
    "scaler = MinMaxScaler()\n",
    "X2 = scaler.fit_transform(X)\n",
    "\n",
    "df_X2 = pd.DataFrame(X2)\n",
    "display(df_X2.describe().T)\n",
    "display(df_X2.corr())\n",
    "\n",
    "plt.plot( X2[:,0], X2[:,1], '.' )\n",
    "plt.plot( [0,1,1,0,0], [0,0,1,1,0], 'r' )\n",
    "plt.xlim(-6,6)\n",
    "plt.ylim(-6,6)\n",
    "plt.gca().set_aspect('equal')"
   ]
  },
  {
   "cell_type": "markdown",
   "id": "9f3c5f16-cfb0-42c0-9570-b46e87aee622",
   "metadata": {},
   "source": [
    "### PCA (principoal component analysis)"
   ]
  },
  {
   "cell_type": "code",
   "execution_count": 9,
   "id": "71abee76-0506-439a-b7e1-e8b7ce79da52",
   "metadata": {},
   "outputs": [
    {
     "data": {
      "text/html": [
       "<div>\n",
       "<style scoped>\n",
       "    .dataframe tbody tr th:only-of-type {\n",
       "        vertical-align: middle;\n",
       "    }\n",
       "\n",
       "    .dataframe tbody tr th {\n",
       "        vertical-align: top;\n",
       "    }\n",
       "\n",
       "    .dataframe thead th {\n",
       "        text-align: right;\n",
       "    }\n",
       "</style>\n",
       "<table border=\"1\" class=\"dataframe\">\n",
       "  <thead>\n",
       "    <tr style=\"text-align: right;\">\n",
       "      <th></th>\n",
       "      <th>count</th>\n",
       "      <th>mean</th>\n",
       "      <th>std</th>\n",
       "      <th>min</th>\n",
       "      <th>25%</th>\n",
       "      <th>50%</th>\n",
       "      <th>75%</th>\n",
       "      <th>max</th>\n",
       "    </tr>\n",
       "  </thead>\n",
       "  <tbody>\n",
       "    <tr>\n",
       "      <th>0</th>\n",
       "      <td>1000.0</td>\n",
       "      <td>-4.263256e-17</td>\n",
       "      <td>1.187339</td>\n",
       "      <td>-3.732625</td>\n",
       "      <td>-0.795139</td>\n",
       "      <td>-0.034416</td>\n",
       "      <td>0.779724</td>\n",
       "      <td>3.325297</td>\n",
       "    </tr>\n",
       "    <tr>\n",
       "      <th>1</th>\n",
       "      <td>1000.0</td>\n",
       "      <td>1.278977e-16</td>\n",
       "      <td>0.110066</td>\n",
       "      <td>-0.387655</td>\n",
       "      <td>-0.073798</td>\n",
       "      <td>0.000745</td>\n",
       "      <td>0.074745</td>\n",
       "      <td>0.360792</td>\n",
       "    </tr>\n",
       "  </tbody>\n",
       "</table>\n",
       "</div>"
      ],
      "text/plain": [
       "    count          mean       std       min       25%       50%       75%  \\\n",
       "0  1000.0 -4.263256e-17  1.187339 -3.732625 -0.795139 -0.034416  0.779724   \n",
       "1  1000.0  1.278977e-16  0.110066 -0.387655 -0.073798  0.000745  0.074745   \n",
       "\n",
       "        max  \n",
       "0  3.325297  \n",
       "1  0.360792  "
      ]
     },
     "metadata": {},
     "output_type": "display_data"
    },
    {
     "data": {
      "text/html": [
       "<div>\n",
       "<style scoped>\n",
       "    .dataframe tbody tr th:only-of-type {\n",
       "        vertical-align: middle;\n",
       "    }\n",
       "\n",
       "    .dataframe tbody tr th {\n",
       "        vertical-align: top;\n",
       "    }\n",
       "\n",
       "    .dataframe thead th {\n",
       "        text-align: right;\n",
       "    }\n",
       "</style>\n",
       "<table border=\"1\" class=\"dataframe\">\n",
       "  <thead>\n",
       "    <tr style=\"text-align: right;\">\n",
       "      <th></th>\n",
       "      <th>0</th>\n",
       "      <th>1</th>\n",
       "    </tr>\n",
       "  </thead>\n",
       "  <tbody>\n",
       "    <tr>\n",
       "      <th>0</th>\n",
       "      <td>1.000000e+00</td>\n",
       "      <td>1.511162e-15</td>\n",
       "    </tr>\n",
       "    <tr>\n",
       "      <th>1</th>\n",
       "      <td>1.511162e-15</td>\n",
       "      <td>1.000000e+00</td>\n",
       "    </tr>\n",
       "  </tbody>\n",
       "</table>\n",
       "</div>"
      ],
      "text/plain": [
       "              0             1\n",
       "0  1.000000e+00  1.511162e-15\n",
       "1  1.511162e-15  1.000000e+00"
      ]
     },
     "metadata": {},
     "output_type": "display_data"
    },
    {
     "data": {
      "image/png": "[encoded data removed]",
      "text/plain": [
       "<Figure size 640x480 with 1 Axes>"
      ]
     },
     "metadata": {},
     "output_type": "display_data"
    }
   ],
   "source": [
    "from sklearn.decomposition import PCA\n",
    "\n",
    "pca = PCA(n_components=2)\n",
    "X3 = pca.fit_transform(X)\n",
    "\n",
    "df_X3 = pd.DataFrame(X3)\n",
    "display(df_X3.describe().T)\n",
    "display(df_X3.corr())\n",
    "\n",
    "plt.plot( X3[:,0], X3[:,1], '.' )\n",
    "plt.xlim(-6,6)\n",
    "plt.ylim(-6,6)\n",
    "plt.gca().set_aspect('equal')"
   ]
  },
  {
   "cell_type": "markdown",
   "id": "aaf3a0e4-0195-41dc-9323-06445d3058cb",
   "metadata": {},
   "source": [
    "### Binarizer (convert values to binary based on a threshold)"
   ]
  },
  {
   "cell_type": "code",
   "execution_count": 10,
   "id": "dbaab512-9c4f-4f25-a5ee-ca09b12ab8ac",
   "metadata": {},
   "outputs": [
    {
     "name": "stdout",
     "output_type": "stream",
     "text": [
      "[[0.25617117 0.30507337]\n",
      " [0.50092521 0.50960887]\n",
      " [0.35725264 0.36392701]\n",
      " [0.5394518  0.54113783]]\n",
      "[[0. 0.]\n",
      " [1. 1.]\n",
      " [0. 0.]\n",
      " [1. 1.]]\n"
     ]
    }
   ],
   "source": [
    "from sklearn.preprocessing import Binarizer\n",
    "\n",
    "binarizer = Binarizer(threshold=0.5)\n",
    "\n",
    "X4 = binarizer.fit_transform(X2)\n",
    "\n",
    "print(X2[:4,:])\n",
    "print(X4[:4,:])"
   ]
  },
  {
   "cell_type": "markdown",
   "id": "7fb9b119-b5df-4ec9-a45b-d73095bf8dc7",
   "metadata": {},
   "source": [
    "# Preprocessing categorical data"
   ]
  },
  {
   "cell_type": "markdown",
   "id": "1742a307-9b41-4941-aebf-f135e47bc70c",
   "metadata": {},
   "source": [
    "### Create data"
   ]
  },
  {
   "cell_type": "code",
   "execution_count": 38,
   "id": "c8344b8a-72de-4aa5-80d8-0631341b0a24",
   "metadata": {},
   "outputs": [],
   "source": [
    "# note that this is a 1-d array\n",
    "text = np.array( ['cat', 'dog', 'bird', 'cat'] )"
   ]
  },
  {
   "cell_type": "markdown",
   "id": "246dc125-12dc-4fc1-b4c2-44e0acc36bb4",
   "metadata": {},
   "source": [
    "### label encoder"
   ]
  },
  {
   "cell_type": "code",
   "execution_count": 35,
   "id": "500695da-ab87-471e-a238-b41ce55ac971",
   "metadata": {},
   "outputs": [
    {
     "data": {
      "text/plain": [
       "array([1, 2, 0, 1], dtype=int64)"
      ]
     },
     "execution_count": 35,
     "metadata": {},
     "output_type": "execute_result"
    }
   ],
   "source": [
    "from sklearn.preprocessing import LabelEncoder\n",
    "\n",
    "LE = LabelEncoder()\n",
    "text_LE = LE.fit_transform(text)\n",
    "text_LE"
   ]
  },
  {
   "cell_type": "code",
   "execution_count": 36,
   "id": "7e5f0d21-e6e4-4b6d-ac97-28cde64e0f05",
   "metadata": {},
   "outputs": [
    {
     "data": {
      "text/plain": [
       "array(['bird', 'cat', 'dog'], dtype='<U4')"
      ]
     },
     "execution_count": 36,
     "metadata": {},
     "output_type": "execute_result"
    }
   ],
   "source": [
    "LE.classes_"
   ]
  },
  {
   "cell_type": "code",
   "execution_count": 37,
   "id": "fa1eface-679d-48f8-a5d6-5e77baf70fc5",
   "metadata": {},
   "outputs": [
    {
     "data": {
      "text/plain": [
       "array(['cat', 'dog', 'bird', 'cat'], dtype='<U4')"
      ]
     },
     "execution_count": 37,
     "metadata": {},
     "output_type": "execute_result"
    }
   ],
   "source": [
    "LE.inverse_transform(text_LE)"
   ]
  },
  {
   "cell_type": "markdown",
   "id": "5c0e40de-6e41-4de8-8508-bbcfed431fe9",
   "metadata": {},
   "source": [
    "### one hot encoder"
   ]
  },
  {
   "cell_type": "code",
   "execution_count": 39,
   "id": "1e3e9d48-6ed5-4ed0-822b-fb91dfc67f03",
   "metadata": {},
   "outputs": [
    {
     "data": {
      "text/plain": [
       "array([['cat'],\n",
       "       ['dog'],\n",
       "       ['bird'],\n",
       "       ['cat']], dtype='<U4')"
      ]
     },
     "execution_count": 39,
     "metadata": {},
     "output_type": "execute_result"
    }
   ],
   "source": [
    "# note that this is a 2-d array\n",
    "text2 = text[:,np.newaxis]\n",
    "text2"
   ]
  },
  {
   "cell_type": "code",
   "execution_count": 40,
   "id": "e35ba9ca-5069-4f75-be16-9e13d9aca692",
   "metadata": {},
   "outputs": [
    {
     "name": "stderr",
     "output_type": "stream",
     "text": [
      "C:\\Users\\Graham West\\anaconda3\\envs\\csci4900\\lib\\site-packages\\sklearn\\preprocessing\\_encoders.py:972: FutureWarning: `sparse` was renamed to `sparse_output` in version 1.2 and will be removed in 1.4. `sparse_output` is ignored unless you leave `sparse` to its default value.\n",
      "  warnings.warn(\n"
     ]
    },
    {
     "data": {
      "text/plain": [
       "array([[0., 1., 0.],\n",
       "       [0., 0., 1.],\n",
       "       [1., 0., 0.],\n",
       "       [0., 1., 0.]])"
      ]
     },
     "execution_count": 40,
     "metadata": {},
     "output_type": "execute_result"
    }
   ],
   "source": [
    "from sklearn.preprocessing import OneHotEncoder\n",
    "\n",
    "OHE = OneHotEncoder(sparse=False)\n",
    "text2_OHE = OHE.fit_transform(text2)\n",
    "\n",
    "text2_OHE"
   ]
  },
  {
   "cell_type": "code",
   "execution_count": 42,
   "id": "e4527ebc-68e0-4a83-aeda-ef0900b62edb",
   "metadata": {},
   "outputs": [
    {
     "name": "stdout",
     "output_type": "stream",
     "text": [
      "[array(['bird', 'cat', 'dog'], dtype='<U4')]\n"
     ]
    }
   ],
   "source": [
    "print(OHE.categories_)"
   ]
  }
 ],
 "metadata": {
  "kernelspec": {
   "display_name": "Python 3 (ipykernel)",
   "language": "python",
   "name": "python3"
  },
  "language_info": {
   "codemirror_mode": {
    "name": "ipython",
    "version": 3
   },
   "file_extension": ".py",
   "mimetype": "text/x-python",
   "name": "python",
   "nbconvert_exporter": "python",
   "pygments_lexer": "ipython3",
   "version": "3.12.3"
  }
 },
 "nbformat": 4,
 "nbformat_minor": 5
}
