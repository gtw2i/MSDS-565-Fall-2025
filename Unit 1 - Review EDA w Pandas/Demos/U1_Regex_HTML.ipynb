{
 "cells": [
  {
   "cell_type": "code",
   "execution_count": 12,
   "id": "10f9d2c5-d875-45f0-aaf0-b77c8c2fdc83",
   "metadata": {},
   "outputs": [],
   "source": [
    "import numpy as np\n",
    "import pandas as pd\n",
    "import matplotlib.pyplot as plt\n",
    "import seaborn as sns\n",
    "import re\n",
    "\n",
    "pd.set_option('display.max_columns',100)\n",
    "pd.set_option('display.max_rows',100)\n",
    "\n",
    "plt.style.use('dark_background')"
   ]
  },
  {
   "cell_type": "code",
   "execution_count": 1,
   "id": "ed1b4f3f-9bb0-4267-9f7d-65d50876e6f8",
   "metadata": {},
   "outputs": [
    {
     "name": "stdout",
     "output_type": "stream",
     "text": [
      "<!DOCTYPE html>\n",
      "<html>\n",
      "<head>\n",
      "\t<title>My Links</title>\n",
      "</head>\n",
      "<body>\n",
      "\t<h1>My Links</h1>\n",
      "\t<ul>\n",
      "\t\t<li><a href=\"https://www.google.com\">Google</a></li>\n",
      "\t\t<li><a href=\"https://www.youtube.com\">YouTube</a></li>\n",
      "\t\t<li><a href=\"https://www.github.com\">GitHub</a></li>\n",
      "\t\t<li><a href=\"https://www.wikipedia.org\">Wikipedia</a></li>\n",
      "\t</ul>\n",
      "</body>\n",
      "</html>\n"
     ]
    }
   ],
   "source": [
    "data_folder = 'C:/Users/Graham West/Python Notebooks/Meharry Teaching/Datasets/'\n",
    "\n",
    "file_path = data_folder + \"/Text Processing/links.html\"\n",
    "\n",
    "with open(file_path,'r') as f:\\\n",
    "    text = f.read()\n",
    "# end\n",
    "print(text)"
   ]
  },
  {
   "cell_type": "markdown",
   "id": "2106e7de-600b-4b28-8d5d-8379a9d3d50e",
   "metadata": {},
   "source": [
    "# Without regex"
   ]
  },
  {
   "cell_type": "code",
   "execution_count": 14,
   "id": "5d3768ff-bf40-4e04-8255-4d914714d792",
   "metadata": {},
   "outputs": [
    {
     "data": {
      "text/plain": [
       "['<!DOCTYPE html>',\n",
       " '<html>',\n",
       " '<head>',\n",
       " '\\t<title>My Links</title>',\n",
       " '</head>',\n",
       " '<body>',\n",
       " '\\t<h1>My Links</h1>',\n",
       " '\\t<ul>',\n",
       " '\\t\\t<li><a href=\"https://www.google.com\">Google</a></li>',\n",
       " '\\t\\t<li><a href=\"https://www.youtube.com\">YouTube</a></li>',\n",
       " '\\t\\t<li><a href=\"https://www.github.com\">GitHub</a></li>',\n",
       " '\\t\\t<li><a href=\"https://www.wikipedia.org\">Wikipedia</a></li>',\n",
       " '\\t</ul>',\n",
       " '</body>',\n",
       " '</html>']"
      ]
     },
     "execution_count": 14,
     "metadata": {},
     "output_type": "execute_result"
    }
   ],
   "source": [
    "lines = text.split('\\n')\n",
    "lines"
   ]
  },
  {
   "cell_type": "code",
   "execution_count": 15,
   "id": "11411244-6d3b-434c-bb17-087a8a9af1a8",
   "metadata": {},
   "outputs": [
    {
     "data": {
      "text/plain": [
       "['<li><a href=\"https://www.google.com\">Google</a></li>',\n",
       " '<li><a href=\"https://www.youtube.com\">YouTube</a></li>',\n",
       " '<li><a href=\"https://www.github.com\">GitHub</a></li>',\n",
       " '<li><a href=\"https://www.wikipedia.org\">Wikipedia</a></li>']"
      ]
     },
     "execution_count": 15,
     "metadata": {},
     "output_type": "execute_result"
    }
   ],
   "source": [
    "hrefLines = []\n",
    "for line in lines:\n",
    "    if 'href' in line:\n",
    "        hrefLines.append(line.strip())\n",
    "    # end\n",
    "# end\n",
    "hrefLines"
   ]
  },
  {
   "cell_type": "code",
   "execution_count": 16,
   "id": "cb3fcf65-c06e-40f3-82ef-8a43ee3f3f3f",
   "metadata": {},
   "outputs": [
    {
     "name": "stdout",
     "output_type": "stream",
     "text": [
      "https://www.google.com\n",
      "https://www.youtube.com\n",
      "https://www.github.com\n",
      "https://www.wikipedia.org\n"
     ]
    }
   ],
   "source": [
    "for line in hrefLines:\n",
    "    idx1 = line.find('\\\"')+1\n",
    "    idx2 = line.find('\\\"', idx1)\n",
    "    \n",
    "    print(line[idx1:idx2])"
   ]
  },
  {
   "cell_type": "markdown",
   "id": "f4df6b67-78c1-4481-bf50-bf2a0bbcabe4",
   "metadata": {},
   "source": [
    "# With regex"
   ]
  },
  {
   "cell_type": "code",
   "execution_count": 17,
   "id": "fb03dd70-0efa-4e10-a478-e06b8c3f230b",
   "metadata": {},
   "outputs": [
    {
     "data": {
      "text/plain": [
       "['https://www.google.com',\n",
       " 'https://www.youtube.com',\n",
       " 'https://www.github.com',\n",
       " 'https://www.wikipedia.org']"
      ]
     },
     "execution_count": 17,
     "metadata": {},
     "output_type": "execute_result"
    }
   ],
   "source": [
    "re.findall(r\"href=\\\"(.*)\\\"\", text)"
   ]
  },
  {
   "cell_type": "code",
   "execution_count": null,
   "id": "eff89bb0-5964-495a-ac88-2e062be6d206",
   "metadata": {},
   "outputs": [],
   "source": []
  }
 ],
 "metadata": {
  "kernelspec": {
   "display_name": "Python 3 (ipykernel)",
   "language": "python",
   "name": "python3"
  },
  "language_info": {
   "codemirror_mode": {
    "name": "ipython",
    "version": 3
   },
   "file_extension": ".py",
   "mimetype": "text/x-python",
   "name": "python",
   "nbconvert_exporter": "python",
   "pygments_lexer": "ipython3",
   "version": "3.12.3"
  }
 },
 "nbformat": 4,
 "nbformat_minor": 5
}
