{
 "cells": [
  {
   "cell_type": "code",
   "execution_count": 1,
   "id": "7109e683-6d4e-4b0d-bed4-82adb3f42b8f",
   "metadata": {},
   "outputs": [],
   "source": [
    "import numpy as np\n",
    "import pandas as pd\n",
    "import matplotlib.pyplot as plt\n",
    "import seaborn as sns\n",
    "\n",
    "pd.set_option('display.max_columns',100)\n",
    "pd.set_option('display.max_rows',100)\n",
    "\n",
    "plt.style.use('dark_background')"
   ]
  },
  {
   "cell_type": "markdown",
   "id": "bc3176a3-7bf4-418d-8b9f-b2b8013f6af4",
   "metadata": {},
   "source": [
    "# Without regex"
   ]
  },
  {
   "cell_type": "code",
   "execution_count": 1,
   "id": "27e2dedc-a6bd-4dd8-bb3d-4ed6e8e5acdb",
   "metadata": {},
   "outputs": [
    {
     "name": "stdout",
     "output_type": "stream",
     "text": [
      " ammonia, exp geometry, hf/sto-3g\n",
      "GAUSSIAN              5 MOL ORBITALS     24 PRIMITIVES        4 NUCLEI\n",
      "  N    1    (CENTRE  1)   0.00000000  0.00000000  0.20750474  CHARGE =  7.0\n",
      "  H    2    (CENTRE  2)   0.00000000  1.79306401 -0.48417772  CHARGE =  1.0\n",
      "  H    3    (CENTRE  3)   1.55283899 -0.89653201 -0.48417772  CHARGE =  1.0\n",
      "  H    4    (CENTRE  4)  -1.55283899 -0.89653201 -0.48417772  CHARGE =  1.0\n",
      "CENTRE ASSIGNMENTS    1  1  1  1  1  1  1  1  1  1  1  1  1  1  1  2  2  2  3  3\n",
      "CENTRE ASSIGNMENTS    3  4  4  4\n",
      "TYPE ASSIGNMENTS      1  1  1  1  1  1  2  2  2  3  3  3  4  4  4  1  1  1  1  1\n",
      "TYPE ASSIGNMENTS      1  1  1  1\n",
      "EXPONENTS  0.9910617D+02 0.1805231D+02 0.4885660D+01 0.3780456D+01 0.8784966D+00\n",
      "EXPONENTS  0.2857144D+00 0.3780456D+01 0.8784966D+00 0.2857144D+00 0.3780456D+01\n",
      "EXPONENTS  0.8784966D+00 0.2857144D+00 0.3780456D+01 0.8784966D+00 0.2857144D+00\n",
      "EXPONENTS  0.3425251D+01 0.6239137D+00 0.1688554D+00 0.3425251D+01 0.6239137D+00\n",
      "EXPONENTS  0.1688554D+00 0.3425251D+01 0.6239137D+00 0.1688554D+00\n",
      "MO    1     MO 0.0        OCC NO =    2.0000000  ORB. ENERGY =  -15.301806\n",
      "  0.34320189D+01  0.33192993D+01  0.10344806D+01 -0.61629956D-02  0.82435045D-02\n",
      "  0.62214958D-02  0.00000000D+00  0.00000000D+00  0.00000000D+00 -0.19927668D-15\n",
      " -0.12531052D-15 -0.19851292D-16 -0.55583585D-02 -0.34952450D-02 -0.55370552D-03\n",
      " -0.18361780D-02 -0.17758714D-02 -0.55346155D-03 -0.18361780D-02 -0.17758714D-02\n",
      " -0.55346155D-03 -0.18361780D-02 -0.17758714D-02 -0.55346155D-03\n",
      "MO    2     MO 0.0        OCC NO =    2.0000000  ORB. ENERGY =   -1.084018\n",
      " -0.75944440D+00 -0.73450157D+00 -0.22891206D+00 -0.14245102D+00  0.19053975D+00\n",
      "  0.14380319D+00  0.00000000D+00  0.00000000D+00  0.00000000D+00 -0.41941482D-15\n",
      " -0.26373930D-15 -0.41780735D-16 -0.15248611D+00 -0.95887359D-01 -0.15190169D-01\n",
      "  0.44512043D-01  0.43050110D-01  0.13416839D-01  0.44512043D-01  0.43050110D-01\n",
      "  0.13416839D-01  0.44512043D-01  0.43050110D-01  0.13416839D-01\n",
      "MO    3     MO 0.0        OCC NO =    2.0000000  ORB. ENERGY =   -0.571098\n",
      " -0.10713941D-14 -0.10362057D-14 -0.32294007D-15 -0.38136210D-15  0.51010261D-15\n",
      "  0.38498205D-15  0.00000000D+00  0.00000000D+00  0.00000000D+00  0.69264977D+00\n",
      "  0.43555676D+00  0.68999509D-01  0.57857655D-15  0.36382446D-15  0.57635907D-16\n",
      "  0.13718213D+00  0.13267659D+00  0.41349496D-01 -0.68591066D-01 -0.66338293D-01\n",
      " -0.20674748D-01 -0.68591066D-01 -0.66338293D-01 -0.20674748D-01\n",
      "MO    4     MO 0.0        OCC NO =    2.0000000  ORB. ENERGY =   -0.571098\n",
      "  0.00000000D+00  0.00000000D+00  0.00000000D+00  0.00000000D+00  0.00000000D+00\n",
      "  0.00000000D+00  0.69264977D+00  0.43555676D+00  0.68999509D-01  0.00000000D+00\n",
      "  0.00000000D+00  0.00000000D+00  0.00000000D+00  0.00000000D+00  0.00000000D+00\n",
      "  0.00000000D+00  0.00000000D+00  0.00000000D+00  0.11880321D+00  0.11490129D+00\n",
      "  0.35809714D-01 -0.11880321D+00 -0.11490129D+00 -0.35809714D-01\n",
      "MO    5     MO 0.0        OCC NO =    2.0000000  ORB. ENERGY =   -0.348254\n",
      " -0.29614916D+00 -0.28642257D+00 -0.89265404D-01 -0.83242896D-01  0.11134410D+00\n",
      "  0.84033052D-01  0.00000000D+00  0.00000000D+00  0.00000000D+00 -0.29466861D-15\n",
      " -0.18529553D-15 -0.29353925D-16  0.10547404D+01  0.66324908D+00  0.10506980D+00\n",
      " -0.32981822D-01 -0.31898583D-01 -0.99413950D-02 -0.32981822D-01 -0.31898583D-01\n",
      " -0.99413950D-02 -0.32981822D-01 -0.31898583D-01 -0.99413950D-02\n",
      "END DATA\n",
      " TOTAL ENERGY =      -55.454043792699 THE VIRIAL(-V/T)=   2.00646162\n"
     ]
    }
   ],
   "source": [
    "data_folder = 'C:/Users/Graham West/Python Notebooks/Meharry Teaching/Datasets/'\n",
    "\n",
    "file_path = data_folder + '/Text Processing/nh3.txt'\n",
    "\n",
    "with open(file_path,'r') as f:\n",
    "    lines = f.readlines()\n",
    "# end\n",
    "\n",
    "for line in lines:\n",
    "    print(line, end='')"
   ]
  },
  {
   "cell_type": "code",
   "execution_count": 3,
   "id": "f04babe2-9cde-46ed-9dd6-4a2329bb9627",
   "metadata": {},
   "outputs": [
    {
     "data": {
      "text/plain": [
       "array([1, 1, 1, 1, 1, 1, 1, 1, 1, 1, 1, 1, 1, 1, 1, 2, 2, 2, 3, 3, 3, 4,\n",
       "       4, 4])"
      ]
     },
     "execution_count": 3,
     "metadata": {},
     "output_type": "execute_result"
    }
   ],
   "source": [
    "centers = []\n",
    "for line in lines:\n",
    "    check = line.strip().startswith('CENTRE')\n",
    "    if check:\n",
    "        centers.extend(line.split('ASSIGNMENTS')[1].strip().replace('  ',' ').split(' '))\n",
    "    # end\n",
    "# end\n",
    "\n",
    "centers = np.array(centers).astype(int)\n",
    "centers"
   ]
  },
  {
   "cell_type": "code",
   "execution_count": 4,
   "id": "7f8f70b8-4b16-456b-850e-4ac60445f4b3",
   "metadata": {},
   "outputs": [
    {
     "data": {
      "text/plain": [
       "array([99.10617  , 18.05231  ,  4.88566  ,  3.780456 ,  0.8784966,\n",
       "        0.2857144,  3.780456 ,  0.8784966,  0.2857144,  3.780456 ,\n",
       "        0.8784966,  0.2857144,  3.780456 ,  0.8784966,  0.2857144,\n",
       "        3.425251 ,  0.6239137,  0.1688554,  3.425251 ,  0.6239137,\n",
       "        0.1688554,  3.425251 ,  0.6239137,  0.1688554])"
      ]
     },
     "execution_count": 4,
     "metadata": {},
     "output_type": "execute_result"
    }
   ],
   "source": [
    "exps = []\n",
    "for line in lines:\n",
    "    check = line.strip().startswith('EXPONENTS')\n",
    "    if check:\n",
    "        exps.extend(line.split('EXPONENTS')[1].strip().replace('  ',' ').replace('D','e').split(' '))\n",
    "    # end\n",
    "# end\n",
    "\n",
    "exps = np.array(exps).astype(float)\n",
    "exps"
   ]
  },
  {
   "cell_type": "markdown",
   "id": "554759e7-f2fc-4d96-9f43-8be3fc5369a0",
   "metadata": {},
   "source": [
    "# With Regex"
   ]
  },
  {
   "cell_type": "code",
   "execution_count": 5,
   "id": "df073e73-4557-47e2-9fb3-5db66caaf4b9",
   "metadata": {},
   "outputs": [],
   "source": [
    "import re"
   ]
  },
  {
   "cell_type": "code",
   "execution_count": 6,
   "id": "d8b55fb7-48f2-479d-9264-81526bd8c957",
   "metadata": {},
   "outputs": [
    {
     "name": "stdout",
     "output_type": "stream",
     "text": [
      " ammonia, exp geometry, hf/sto-3g\n",
      "GAUSSIAN              5 MOL ORBITALS     24 PRIMITIVES        4 NUCLEI\n",
      "  N    1    (CENTRE  1)   0.00000000  0.00000000  0.20750474  CHARGE =  7.0\n",
      "  H    2    (CENTRE  2)   0.00000000  1.79306401 -0.48417772  CHARGE =  1.0\n",
      "  H    3    (CENTRE  3)   1.55283899 -0.89653201 -0.48417772  CHARGE =  1.0\n",
      "  H    4    (CENTRE  4)  -1.55283899 -0.89653201 -0.48417772  CHARGE =  1.0\n",
      "CENTRE ASSIGNMENTS    1  1  1  1  1  1  1  1  1  1  1  1  1  1  1  2  2  2  3  3\n",
      "CENTRE ASSIGNMENTS    3  4  4  4\n",
      "TYPE ASSIGNMENTS      1  1  1  1  1  1  2  2  2  3  3  3  4  4  4  1  1  1  1  1\n",
      "TYPE ASSIGNMENTS      1  1  1  1\n",
      "EXPONENTS  0.9910617D+02 0.1805231D+02 0.4885660D+01 0.3780456D+01 0.8784966D+00\n",
      "EXPONENTS  0.2857144D+00 0.3780456D+01 0.8784966D+00 0.2857144D+00 0.3780456D+01\n",
      "EXPONENTS  0.8784966D+00 0.2857144D+00 0.3780456D+01 0.8784966D+00 0.2857144D+00\n",
      "EXPONENTS  0.3425251D+01 0.6239137D+00 0.1688554D+00 0.3425251D+01 0.6239137D+00\n",
      "EXPONENTS  0.1688554D+00 0.3425251D+01 0.6239137D+00 0.1688554D+00\n",
      "MO    1     MO 0.0        OCC NO =    2.0000000  ORB. ENERGY =  -15.301806\n",
      "  0.34320189D+01  0.33192993D+01  0.10344806D+01 -0.61629956D-02  0.82435045D-02\n",
      "  0.62214958D-02  0.00000000D+00  0.00000000D+00  0.00000000D+00 -0.19927668D-15\n",
      " -0.12531052D-15 -0.19851292D-16 -0.55583585D-02 -0.34952450D-02 -0.55370552D-03\n",
      " -0.18361780D-02 -0.17758714D-02 -0.55346155D-03 -0.18361780D-02 -0.17758714D-02\n",
      " -0.55346155D-03 -0.18361780D-02 -0.17758714D-02 -0.55346155D-03\n",
      "MO    2     MO 0.0        OCC NO =    2.0000000  ORB. ENERGY =   -1.084018\n",
      " -0.75944440D+00 -0.73450157D+00 -0.22891206D+00 -0.14245102D+00  0.19053975D+00\n",
      "  0.14380319D+00  0.00000000D+00  0.00000000D+00  0.00000000D+00 -0.41941482D-15\n",
      " -0.26373930D-15 -0.41780735D-16 -0.15248611D+00 -0.95887359D-01 -0.15190169D-01\n",
      "  0.44512043D-01  0.43050110D-01  0.13416839D-01  0.44512043D-01  0.43050110D-01\n",
      "  0.13416839D-01  0.44512043D-01  0.43050110D-01  0.13416839D-01\n",
      "MO    3     MO 0.0        OCC NO =    2.0000000  ORB. ENERGY =   -0.571098\n",
      " -0.10713941D-14 -0.10362057D-14 -0.32294007D-15 -0.38136210D-15  0.51010261D-15\n",
      "  0.38498205D-15  0.00000000D+00  0.00000000D+00  0.00000000D+00  0.69264977D+00\n",
      "  0.43555676D+00  0.68999509D-01  0.57857655D-15  0.36382446D-15  0.57635907D-16\n",
      "  0.13718213D+00  0.13267659D+00  0.41349496D-01 -0.68591066D-01 -0.66338293D-01\n",
      " -0.20674748D-01 -0.68591066D-01 -0.66338293D-01 -0.20674748D-01\n",
      "MO    4     MO 0.0        OCC NO =    2.0000000  ORB. ENERGY =   -0.571098\n",
      "  0.00000000D+00  0.00000000D+00  0.00000000D+00  0.00000000D+00  0.00000000D+00\n",
      "  0.00000000D+00  0.69264977D+00  0.43555676D+00  0.68999509D-01  0.00000000D+00\n",
      "  0.00000000D+00  0.00000000D+00  0.00000000D+00  0.00000000D+00  0.00000000D+00\n",
      "  0.00000000D+00  0.00000000D+00  0.00000000D+00  0.11880321D+00  0.11490129D+00\n",
      "  0.35809714D-01 -0.11880321D+00 -0.11490129D+00 -0.35809714D-01\n",
      "MO    5     MO 0.0        OCC NO =    2.0000000  ORB. ENERGY =   -0.348254\n",
      " -0.29614916D+00 -0.28642257D+00 -0.89265404D-01 -0.83242896D-01  0.11134410D+00\n",
      "  0.84033052D-01  0.00000000D+00  0.00000000D+00  0.00000000D+00 -0.29466861D-15\n",
      " -0.18529553D-15 -0.29353925D-16  0.10547404D+01  0.66324908D+00  0.10506980D+00\n",
      " -0.32981822D-01 -0.31898583D-01 -0.99413950D-02 -0.32981822D-01 -0.31898583D-01\n",
      " -0.99413950D-02 -0.32981822D-01 -0.31898583D-01 -0.99413950D-02\n",
      "END DATA\n",
      " TOTAL ENERGY =      -55.454043792699 THE VIRIAL(-V/T)=   2.00646162\n",
      "\n"
     ]
    }
   ],
   "source": [
    "with open(file_path,'r') as f:\n",
    "    text = f.read()\n",
    "# end\n",
    "\n",
    "print(text)"
   ]
  },
  {
   "cell_type": "code",
   "execution_count": 7,
   "id": "63da7528-7239-443a-aae6-da6642c6c83a",
   "metadata": {},
   "outputs": [
    {
     "data": {
      "text/plain": [
       "array([1, 1, 1, 1, 1, 1, 1, 1, 1, 1, 1, 1, 1, 1, 1, 2, 2, 2, 3, 3, 3, 4,\n",
       "       4, 4])"
      ]
     },
     "execution_count": 7,
     "metadata": {},
     "output_type": "execute_result"
    }
   ],
   "source": [
    "centers = re.findall(r\"CENTRE ASSIGNMENTS(.*)\\n\", text)\n",
    "centers = [ re.findall(r\"\\d\", m) for m in centers ]\n",
    "centers = np.hstack(centers).astype(int)\n",
    "centers"
   ]
  },
  {
   "cell_type": "code",
   "execution_count": 8,
   "id": "2c454a4c-d485-4b59-86e2-1edf64560008",
   "metadata": {},
   "outputs": [
    {
     "data": {
      "text/plain": [
       "array([99.10617  , 18.05231  ,  4.88566  ,  3.780456 ,  0.8784966,\n",
       "        0.2857144,  3.780456 ,  0.8784966,  0.2857144,  3.780456 ,\n",
       "        0.8784966,  0.2857144,  3.780456 ,  0.8784966,  0.2857144,\n",
       "        3.425251 ,  0.6239137,  0.1688554,  3.425251 ,  0.6239137,\n",
       "        0.1688554,  3.425251 ,  0.6239137,  0.1688554])"
      ]
     },
     "execution_count": 8,
     "metadata": {},
     "output_type": "execute_result"
    }
   ],
   "source": [
    "exps = re.findall(r\"EXPONENTS(.*)\\n\", text)\n",
    "exps = [ re.findall(r\"\\S+\", m) for m in exps ]\n",
    "exps = np.hstack(exps)\n",
    "exps = [ re.sub(r\"D\", r\"E\", m) for m in exps ]\n",
    "exps = np.hstack(exps).astype(float)\n",
    "exps"
   ]
  }
 ],
 "metadata": {
  "kernelspec": {
   "display_name": "Python 3 (ipykernel)",
   "language": "python",
   "name": "python3"
  },
  "language_info": {
   "codemirror_mode": {
    "name": "ipython",
    "version": 3
   },
   "file_extension": ".py",
   "mimetype": "text/x-python",
   "name": "python",
   "nbconvert_exporter": "python",
   "pygments_lexer": "ipython3",
   "version": "3.12.3"
  }
 },
 "nbformat": 4,
 "nbformat_minor": 5
}
