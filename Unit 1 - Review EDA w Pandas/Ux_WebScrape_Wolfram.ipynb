{
 "cells": [
  {
   "cell_type": "code",
   "execution_count": 2,
   "id": "c7b024a7-94fd-49fe-a71f-b39d0e32a6f1",
   "metadata": {},
   "outputs": [],
   "source": [
    "import numpy as np\n",
    "import pandas as pd\n",
    "import matplotlib.pyplot as plt\n",
    "import seaborn as sns\n",
    "import re\n",
    "from bs4 import BeautifulSoup\n",
    "import requests\n",
    "\n",
    "pd.set_option('display.max_columns',100)\n",
    "pd.set_option('display.max_rows',100)\n",
    "\n",
    "plt.style.use('dark_background')"
   ]
  },
  {
   "cell_type": "markdown",
   "id": "80f09714-4d39-4249-a14f-5ee863c0d8a3",
   "metadata": {},
   "source": [
    "# Request webpage HTML"
   ]
  },
  {
   "cell_type": "code",
   "execution_count": 3,
   "id": "26fa4873-e1d7-49b0-9ebe-acfafd8135dd",
   "metadata": {},
   "outputs": [
    {
     "name": "stdout",
     "output_type": "stream",
     "text": [
      "<!DOCTYPE html>\n",
      "<html class=\"client-nojs vector-feature-language-in-header-enabled vector-feature-language-in-main-page-header-disabled vector-feature-page-tools-pinned-disabled vector-feature-toc-pinned-clientpref-1 vector-feature-main-menu-pinned-disabled vector-feature-limited-width-clientpref-1 vector-feature-limited-width-content-enabled vector-feature-custom-font-size-clientpref-1 vector-feature-appearance-pinned-clientpref-1 vector-feature-night-mode-enabled skin-theme-clientpref-day vector-sticky-header-enabled vector-toc-available\" dir=\"ltr\" lang=\"en\">\n",
      " <head>\n",
      "  <meta charset=\"utf-8\"/>\n",
      "  <title>\n",
      "   Stephen Wolfram - Wikipedia\n",
      "  </title>\n",
      "  <script>\n",
      "   (function(){var className=\"client-js vector-feature-language-in-header-enabled vector-feature-language-in-main-page-header-disabled vector-feature-page-tools-pinned-disabled vector-feature-toc-pinned-clientpref-1 vector-feature-main-menu-pinned-disabled vector-feature-limited-width-clientpref-1 vector-feature-limited-width-content\n"
     ]
    }
   ],
   "source": [
    "base_url = 'https://en.wikipedia.org/'\n",
    "wolfram_url = 'wiki/Stephen_Wolfram'\n",
    "url = base_url + wolfram_url\n",
    "\n",
    "response = requests.get(url)\n",
    "\n",
    "html = response.text\n",
    "soup = BeautifulSoup(html, 'html.parser')\n",
    "print(soup.prettify()[:1000])"
   ]
  },
  {
   "cell_type": "markdown",
   "id": "09407a11-57ee-456f-a5b2-100a0d2d0649",
   "metadata": {},
   "source": [
    "# Read paragraphs"
   ]
  },
  {
   "cell_type": "code",
   "execution_count": 12,
   "id": "3138107d-15bc-4974-8356-d01a08ad84fb",
   "metadata": {},
   "outputs": [
    {
     "name": "stdout",
     "output_type": "stream",
     "text": [
      "\n",
      "\n",
      "Stephen Wolfram (/ˈwʊlfrəm/ WUUL-frəm; born 29 August 1959) is a British-American[6] computer scientist, physicist, and businessman. He is known for his work in computer algebra and theoretical physics.[7][8] In 2012, he was named a fellow of the American Mathematical Society.[9]\n",
      "\n",
      "As a businessman, he is the founder and CEO of the software company Wolfram Research, where he works as chief designer of Mathematica and the Wolfram Alpha answer engine. \n",
      "\n",
      "Stephen Wolfram was born in London in 1959 to Hugo and Sybil Wolfram, both German Jewish refugees to the United Kingdom.[10] His maternal grandmother was British psychoanalyst Kate Friedlander.\n",
      "\n",
      "Wolfram's father, Hugo Wolfram, was a textile manufacturer and served as managing director of the Lurex Company—makers of the fabric Lurex.[11] Wolfram's mother, Sybil Wolfram, was a Fellow and Tutor in Philosophy at Lady Margaret Hall at University of Oxford from 1964 to 1993.[12]\n",
      "\n",
      "Stephen Wolfram is married to a mathematician. They have four children together.[13][14]\n",
      "\n",
      "Wolfram was educated at Eton College, but left prematurely in 1976.[15] As a young child, Wolfram had difficulties learning arithmetic.[16] He entered St. John's College, Oxford, at age 17 and left in 1978[17] without graduating[18][19] to attend the California Institute of Technology the following year, where he received a PhD[20] in particle physics in 1980.[21] Wolfram's thesis committee was composed of Richard Feynman, Peter Goldreich, Frank J. Sciulli, and Steven Frautschi, and chaired by Richard D. Field.[21][22]\n",
      "\n",
      "Wolfram, at the age of 15, began research in applied quantum field theory and particle physics and published scientific papers in peer-reviewed scientific journals; by the time he left Oxford, he had published ten such papers.[23] Following his PhD, Wolfram joined the faculty at Caltech and became the youngest recipient[24] of a MacArthur Fellowship in 1981, at age 21.[18]\n",
      "\n",
      "In 1983, Wolfram left for the School of Natural Sciences of the Institute for Advanced Study in Princeton. By that time, he was no longer interested in particle physics. Instead, he began pursuing investigations into cellular automata,[citation needed] mainly with computer simulations. He produced a series of papers investigating the class of elementary cellular automata, conceiving the Wolfram code, a naming system for one-dimensional cellular automata, and a classification scheme for the complexity of their behaviour.[25] He conjectured that the Rule 110 cellular automaton might be Turing complete, which a research assistant to Wolfram, Matthew Cook, later proved correct.[26] Wolfram sued Cook and temporarily blocked publication of the work on Rule 110 for allegedly violating a non-disclosure agreement until Wolfram could publish the work in his controversial book A New Kind of Science.[4][27] Wolfram's cellular-automata work came to be cited in more than 10,000 papers.[28]\n",
      "\n",
      "In the mid-1980s, Wolfram worked on simulations of physical processes (such as turbulent fluid flow) with cellular automata on the Connection Machine alongside Richard Feynman[29] and helped initiate the field of complex systems.[citation needed] In 1984, he was a participant in the Founding Workshops of the Santa Fe Institute, along with Nobel laureates Murray Gell-Mann, Manfred Eigen, and Philip Warren Anderson, and future laureate Frank Wilczek.[30] In 1986, he founded the Center for Complex Systems Research (CCSR) at the University of Illinois at Urbana–Champaign.[31] In 1987, he founded the journal Complex Systems.[31]\n",
      "\n",
      "Wolfram led the development of the computer algebra system SMP (Symbolic Manipulation Program) in the Caltech physics department during 1979–1981. A dispute with the administration over the intellectual property rights regarding SMP—patents, copyright, and faculty involvement in commercial ventures—eventually led him to resign from Caltech.[32] SMP was further developed and marketed commercially by Inference Corp. of Los Angeles during 1983–1988.\n",
      "\n",
      "In 1986, Wolfram left the Institute for Advanced Study for the University of Illinois at Urbana–Champaign, where he had founded their Center for Complex Systems Research, and started to develop the computer algebra system Mathematica, which was released on 23 June 1988, when he left academia. In 1987, he founded Wolfram Research, which continues to develop and market the program.[4]\n",
      "\n",
      "From 1992 to 2002, Wolfram worked on his controversial book A New Kind of Science,[4][33] which presents an empirical study of simple computational systems. Additionally, it argues that for fundamental reasons these types of systems, rather than traditional mathematics, are needed to model and understand complexity in nature. Wolfram's conclusion is that the universe is discrete in its nature, and runs on fundamental laws that can be described as simple programs. He predicts that a realization of this within scientific communities will have a revolutionary influence on physics, chemistry, biology, and most other scientific areas, hence the book's title. The book was met with skepticism and criticism that Wolfram took credit for the work of others and made conclusions without evidence to support them.[34][35]\n",
      "\n",
      "In March 2009, Wolfram announced Wolfram Alpha, an answer engine. Wolfram Alpha launched in May 2009,[36] and a paid-for version with extra features launched in February 2012 that was met with criticism for its high price, which later dropped from $50 to $2.[37][38] The engine is based on natural language processing and a large library of rules-based algorithms. The application programming interface allows other applications to extend and enhance Wolfram Alpha.[39]\n",
      "\n",
      "In 2010, Wolfram co-founded Touchpress with Theodore Gray, Max Whitby, and John Cromie. The company specialised in creating in-depth premium apps and games covering a wide range of educational subjects designed for children, parents, students, and educators. Touchpress published more than 100 apps.[40] The company is no longer active.\n",
      "\n",
      "In March 2014, at the annual South by Southwest (SXSW) event, Wolfram officially announced the Wolfram Language as a new general multi-paradigm programming language,[41] though it was previously available through Mathematica and not an entirely new programming language. The documentation for the language was pre-released in October 2013 to coincide with the bundling of Mathematica and the Wolfram Language on every Raspberry Pi computer with some controversy because of the proprietary nature of the Wolfram Language.[42] While the Wolfram Language has existed for over 30 years as the primary programming language used in Mathematica, it was not officially named until 2014, and is not widely used.[43][44]\n",
      "\n",
      "In April 2020, Wolfram announced the \"Wolfram Physics Project\" as an effort to reduce and explain all the laws of physics within a paradigm of a hypergraph that is transformed by minimal rewriting rules that obey the Church–Rosser property.[45][46] The effort is a continuation of the ideas he originally described in A New Kind of Science. Wolfram claims that \"From an extremely simple model, we're able to reproduce special relativity, general relativity and the core results of quantum mechanics.\"\n",
      "\n",
      "Physicists are generally unimpressed with Wolfram's claim, and say his results are non-quantitative and arbitrary.[47][48]\n",
      "\n",
      "Wolfram has a log of personal analytics, including emails received and sent, keystrokes made, meetings and events attended, recordings of phone calls, and even physical movement dating back to the 1980s. In the preface of A New Kind of Science, he noted that he recorded over 100 million keystrokes and 100 mouse miles. He has said that personal analytics \"can give us a whole new dimension to experiencing our lives.\"[49]\n",
      "\n",
      "Wolfram was a scientific consultant for the 2016 film Arrival. He and his son Christopher Wolfram wrote some of the code featured on screen, such as the code in graphics depicting an analysis of the alien logograms, for which they used the Wolfram Language.[50][51]\n",
      "\n"
     ]
    }
   ],
   "source": [
    "div = soup.find(\"div\", class_=\"mw-content-ltr mw-parser-output\" )\n",
    "\n",
    "for p in div.find_all('p'):\n",
    "    print(p.text)"
   ]
  },
  {
   "cell_type": "markdown",
   "id": "c95e575b-c921-4333-b11c-b05059e62446",
   "metadata": {},
   "source": [
    "# Get links"
   ]
  },
  {
   "cell_type": "code",
   "execution_count": 8,
   "id": "8f42a797-4cab-46bc-834f-d77887551d8b",
   "metadata": {},
   "outputs": [
    {
     "data": {
      "text/plain": [
       "['/wiki/Dragon_School',\n",
       " '/wiki/Eton_College',\n",
       " '/wiki/St._John%27s_College,_Oxford',\n",
       " '/wiki/California_Institute_of_Technology',\n",
       " '/wiki/Mathematica',\n",
       " '/wiki/Wolfram_Alpha',\n",
       " '/wiki/A_New_Kind_of_Science',\n",
       " '/wiki/Wolfram_Language',\n",
       " '/wiki/MacArthur_Fellows_Program',\n",
       " '/wiki/Mathematics',\n",
       " '/wiki/Physics',\n",
       " '/wiki/Computing',\n",
       " '/wiki/Cellular_automaton',\n",
       " '/wiki/Wolfram_Research',\n",
       " '/wiki/Thinking_Machines_Corporation',\n",
       " '/wiki/California_Institute_of_Technology',\n",
       " '/wiki/Institute_for_Advanced_Study',\n",
       " '/wiki/University_of_Illinois_at_Urbana%E2%80%93Champaign',\n",
       " '/wiki/Thesis',\n",
       " '/wiki/Doctoral_advisor',\n",
       " '/wiki/Richard_D._Field',\n",
       " '/wiki/Computer_algebra',\n",
       " '/wiki/Theoretical_physics',\n",
       " '/wiki/American_Mathematical_Society',\n",
       " '/wiki/Wolfram_Research',\n",
       " '/wiki/Mathematica',\n",
       " '/wiki/Wolfram_Alpha',\n",
       " '/wiki/Hugo_Wolfram',\n",
       " '/wiki/Sybil_Wolfram',\n",
       " '/wiki/German_Jewish',\n",
       " '/wiki/Psychoanalyst',\n",
       " '/wiki/Kate_Friedlander',\n",
       " '/wiki/Hugo_Wolfram',\n",
       " '/wiki/Lurex',\n",
       " '/wiki/Sybil_Wolfram',\n",
       " '/wiki/Lady_Margaret_Hall',\n",
       " '/wiki/University_of_Oxford',\n",
       " '/wiki/Eton_College',\n",
       " '/wiki/St._John%27s_College,_Oxford',\n",
       " '/wiki/California_Institute_of_Technology',\n",
       " '/wiki/Thesis',\n",
       " '/wiki/Richard_Feynman',\n",
       " '/wiki/Peter_Goldreich',\n",
       " '/wiki/Frank_J._Sciulli',\n",
       " '/wiki/Steven_Frautschi',\n",
       " '/wiki/Richard_D._Field',\n",
       " '/wiki/Quantum_field_theory',\n",
       " '/wiki/Particle_physics',\n",
       " '/wiki/Peer-reviewed',\n",
       " '/wiki/Scientific_journal',\n",
       " '/wiki/MacArthur_Fellows_Program',\n",
       " '/wiki/Institute_for_Advanced_Study',\n",
       " '/wiki/Cellular_automaton',\n",
       " '/wiki/Elementary_cellular_automaton',\n",
       " '/wiki/Wolfram_code',\n",
       " '/wiki/Cellular_automaton#Classification',\n",
       " '/wiki/Rule_110',\n",
       " '/wiki/Turing_complete',\n",
       " '/wiki/Matthew_Cook',\n",
       " '/wiki/Non-disclosure_agreement',\n",
       " '/wiki/A_New_Kind_of_Science',\n",
       " '/wiki/Turbulence',\n",
       " '/wiki/Connection_Machine',\n",
       " '/wiki/Richard_Feynman',\n",
       " '/wiki/Complex_systems',\n",
       " '/wiki/Santa_Fe_Institute',\n",
       " '/wiki/Murray_Gell-Mann',\n",
       " '/wiki/Manfred_Eigen',\n",
       " '/wiki/Philip_Warren_Anderson',\n",
       " '/wiki/Frank_Wilczek',\n",
       " '/wiki/University_of_Illinois_at_Urbana%E2%80%93Champaign',\n",
       " '/wiki/Complex_Systems_(journal)',\n",
       " '/wiki/Symbolic_Manipulation_Program',\n",
       " '/wiki/Computer_algebra_system',\n",
       " '/wiki/Symbolic_Manipulation_Program',\n",
       " '/wiki/Mathematica',\n",
       " '/wiki/Institute_for_Advanced_Study',\n",
       " '/wiki/University_of_Illinois_at_Urbana%E2%80%93Champaign',\n",
       " '/wiki/Wolfram_Mathematica',\n",
       " '/wiki/Wolfram_Research',\n",
       " '/wiki/A_New_Kind_of_Science',\n",
       " '/wiki/A_New_Kind_of_Science',\n",
       " '/wiki/Wolfram_Alpha',\n",
       " '/wiki/Answer_engine',\n",
       " '/wiki/Natural_language_processing',\n",
       " '/wiki/Application_programming_interface',\n",
       " '/wiki/Touchpress',\n",
       " '/wiki/Touchpress',\n",
       " '/wiki/Theodore_Gray',\n",
       " '/wiki/Wolfram_Language',\n",
       " '/wiki/South_by_Southwest',\n",
       " '/wiki/Wolfram_Language',\n",
       " '/wiki/Multi-paradigm_programming_language',\n",
       " '/wiki/Mathematica',\n",
       " '/wiki/Raspberry_Pi',\n",
       " '/wiki/Mathematica',\n",
       " '/wiki/Hypergraph',\n",
       " '/wiki/Hypergraph',\n",
       " '/wiki/Abstract_rewriting_system',\n",
       " '/wiki/Church%E2%80%93Rosser_theorem',\n",
       " '/wiki/Arrival_(film)',\n",
       " '/wiki/Wolfram_Language',\n",
       " '/wiki/ISBN_(identifier)',\n",
       " '/wiki/A_New_Kind_of_Science',\n",
       " '/wiki/Wolfram_Media',\n",
       " '/wiki/ISBN_(identifier)',\n",
       " '/wiki/OCLC_(identifier)',\n",
       " '/wiki/Doi_(identifier)',\n",
       " '/wiki/ISBN_(identifier)',\n",
       " '/wiki/S2CID_(identifier)',\n",
       " '/wiki/Scopus',\n",
       " '/wiki/Bibcode_(identifier)',\n",
       " '/wiki/Doi_(identifier)',\n",
       " '/wiki/PMID_(identifier)',\n",
       " '/wiki/S2CID_(identifier)',\n",
       " '/wiki/Australian_Broadcasting_Corporation',\n",
       " '/wiki/BusinessWeek',\n",
       " '/wiki/Mathematics_Genealogy_Project',\n",
       " '/wiki/ISBN_(identifier)',\n",
       " '/wiki/Doi_(identifier)',\n",
       " '/wiki/ISSN_(identifier)',\n",
       " '/wiki/ArXiv_(identifier)',\n",
       " '/wiki/Doi_(identifier)',\n",
       " '/wiki/ISSN_(identifier)',\n",
       " '/wiki/Doi_(identifier)',\n",
       " '/wiki/ISBN_(identifier)',\n",
       " '/wiki/S2CID_(identifier)',\n",
       " '/wiki/Bibcode_(identifier)',\n",
       " '/wiki/Doi_(identifier)',\n",
       " '/wiki/PMID_(identifier)',\n",
       " '/wiki/ISBN_(identifier)',\n",
       " '/wiki/Bibcode_(identifier)',\n",
       " '/wiki/Doi_(identifier)',\n",
       " '/wiki/ISSN_(identifier)',\n",
       " '/wiki/PMID_(identifier)',\n",
       " '/wiki/S2CID_(identifier)',\n",
       " '/wiki/ISSN_(identifier)',\n",
       " '/wiki/The_Guardian',\n",
       " '/wiki/ISSN_(identifier)',\n",
       " '/wiki/The_New_York_Times',\n",
       " '/wiki/Mathematics_Genealogy_Project',\n",
       " '/wiki/IMDb_(identifier)',\n",
       " '/wiki/TED_(conference)',\n",
       " '/wiki/Charlie_Rose_(talk_show)',\n",
       " '/wiki/Open_Library',\n",
       " '/wiki/Wolfram_Research',\n",
       " '/wiki/Computable_Document_Format',\n",
       " '/wiki/Wolfram_Mathematica',\n",
       " '/wiki/GridMathematica',\n",
       " '/wiki/MathWorld',\n",
       " '/wiki/WolframAlpha',\n",
       " '/wiki/Wolfram_Demonstrations_Project',\n",
       " '/wiki/Wolfram_Language',\n",
       " '/wiki/Wolfram_SystemModeler',\n",
       " '/wiki/Conrad_Wolfram',\n",
       " '/wiki/Theodore_Gray',\n",
       " '/wiki/Eric_W._Weisstein',\n",
       " '/wiki/Ed_Pegg_Jr.']"
      ]
     },
     "execution_count": 8,
     "metadata": {},
     "output_type": "execute_result"
    }
   ],
   "source": [
    "links = []\n",
    "for x in div.find_all('a'):\n",
    "    try:\n",
    "        link = x['href']\n",
    "        #if \"/wiki/\" in link:\n",
    "        if link.startswith(\"/wiki/\") and \":\" not in link:\n",
    "            links.append( link )\n",
    "        # end\n",
    "    except:\n",
    "        1\n",
    "    # end\n",
    "# end\n",
    "links"
   ]
  },
  {
   "cell_type": "markdown",
   "id": "7932d002-d0e1-4be0-951c-814e0481c88c",
   "metadata": {},
   "source": [
    "# Download image"
   ]
  },
  {
   "cell_type": "code",
   "execution_count": 9,
   "id": "4416a233-8907-4acf-bd78-9963d6ecb2ce",
   "metadata": {},
   "outputs": [
    {
     "data": {
      "text/plain": [
       "'https://upload.wikimedia.org/wikipedia/commons/thumb/4/44/Stephen_Wolfram_PR_%28cropped%29.jpg/220px-Stephen_Wolfram_PR_%28cropped%29.jpg'"
      ]
     },
     "execution_count": 9,
     "metadata": {},
     "output_type": "execute_result"
    }
   ],
   "source": [
    "image = soup.find(\"table\", class_=\"infobox biography vcard\").find(\"img\")\n",
    "image_url = \"https:\" + image[\"src\"]\n",
    "image_url"
   ]
  },
  {
   "cell_type": "code",
   "execution_count": 10,
   "id": "e3c85c14-72a7-4c4d-ae7a-aa2902ad8cb2",
   "metadata": {},
   "outputs": [],
   "source": [
    "image_response = requests.get(image_url)\n",
    "\n",
    "with open(\"stephen_wolfram.jpg\", \"wb\") as file:\n",
    "    file.write(image_response.content)"
   ]
  },
  {
   "cell_type": "markdown",
   "id": "0b902d0c-284e-4a0e-b947-ae8ae4546fe1",
   "metadata": {},
   "source": [
    "# Read biography info table"
   ]
  },
  {
   "cell_type": "code",
   "execution_count": 11,
   "id": "a2c44054-39c9-4cdb-bad5-6279d66a3d73",
   "metadata": {},
   "outputs": [
    {
     "data": {
      "text/plain": [
       "Born                (1959-08-29) 29 August 1959 (age 65)London, En...\n",
       "Nationality                                         British, American\n",
       "Education                                Dragon School[5]Eton College\n",
       "Alma mater          St. John's College, Oxford(no degree)\\nCalifor...\n",
       "Known for           Mathematica\\nWolfram Alpha\\nA New Kind of Scie...\n",
       "Awards                                    MacArthur Fellowship (1981)\n",
       "Fields              Mathematics[1]\\nPhysics\\nComputing\\nCellular a...\n",
       "Institutions        Wolfram Research\\nThinking Machines Corporatio...\n",
       "Thesis              Some Topics in Theoretical High-Energy Physics...\n",
       "Doctoral advisor                                  Richard D. Field[3]\n",
       "Website             www.stephenwolfram.com\\ntwitter.com/stephen_wo...\n",
       "dtype: object"
      ]
     },
     "execution_count": 11,
     "metadata": {},
     "output_type": "execute_result"
    }
   ],
   "source": [
    "info = {}\n",
    "\n",
    "table = soup.find('table', class_=\"infobox biography vcard\")\n",
    "for tr in table.find_all(\"tr\")[2:]:\n",
    "    try:\n",
    "        a = tr.find('th').text\n",
    "        b = tr.find('td').text\n",
    "        info[a] = b\n",
    "    except:\n",
    "        1\n",
    "    # end\n",
    "# end\n",
    "\n",
    "pd.Series(info).str.strip()"
   ]
  }
 ],
 "metadata": {
  "kernelspec": {
   "display_name": "Python 3 (ipykernel)",
   "language": "python",
   "name": "python3"
  },
  "language_info": {
   "codemirror_mode": {
    "name": "ipython",
    "version": 3
   },
   "file_extension": ".py",
   "mimetype": "text/x-python",
   "name": "python",
   "nbconvert_exporter": "python",
   "pygments_lexer": "ipython3",
   "version": "3.9.7"
  }
 },
 "nbformat": 4,
 "nbformat_minor": 5
}
