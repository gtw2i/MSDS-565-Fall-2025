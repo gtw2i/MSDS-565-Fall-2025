{
 "cells": [
  {
   "cell_type": "code",
   "execution_count": 1,
   "id": "ecbfa4a6-d698-4383-bc08-817470ea075d",
   "metadata": {},
   "outputs": [],
   "source": [
    "import pandas as pd\n",
    "import numpy as np"
   ]
  },
  {
   "cell_type": "markdown",
   "id": "a1d96a0c-fd32-4f94-ae93-64ed22ac89c5",
   "metadata": {},
   "source": [
    "# Create a series or array"
   ]
  },
  {
   "cell_type": "code",
   "execution_count": 2,
   "id": "249e598c-25f4-40de-8416-8ac5f95904d7",
   "metadata": {},
   "outputs": [],
   "source": [
    "N = int(1e6)\n",
    "\n",
    "x = pd.Series(np.random.rand(N))"
   ]
  },
  {
   "cell_type": "markdown",
   "id": "fdb83785-ea64-4135-a29b-c7d601fecd7c",
   "metadata": {},
   "source": [
    "# Vectorized math operation (magic method)"
   ]
  },
  {
   "cell_type": "code",
   "execution_count": 3,
   "id": "426f781d-d824-4217-b790-6f7a2d4dbb40",
   "metadata": {},
   "outputs": [
    {
     "name": "stdout",
     "output_type": "stream",
     "text": [
      "CPU times: total: 0 ns\n",
      "Wall time: 998 μs\n"
     ]
    }
   ],
   "source": [
    "%%time\n",
    "\n",
    "z = x**2"
   ]
  },
  {
   "cell_type": "markdown",
   "id": "eb16cccd-1a95-4259-b9f2-ab36eabe5069",
   "metadata": {},
   "source": [
    "# Vectorized .apply()"
   ]
  },
  {
   "cell_type": "code",
   "execution_count": 4,
   "id": "51a984be-d187-461e-85b2-41758d3a31d2",
   "metadata": {},
   "outputs": [
    {
     "name": "stdout",
     "output_type": "stream",
     "text": [
      "CPU times: total: 266 ms\n",
      "Wall time: 258 ms\n"
     ]
    }
   ],
   "source": [
    "%%time\n",
    "\n",
    "z = x.apply( lambda x: x**2 );"
   ]
  },
  {
   "cell_type": "markdown",
   "id": "fca9d062-183f-4f47-8177-caadc3775efa",
   "metadata": {},
   "source": [
    "# Non-vectorized for loop"
   ]
  },
  {
   "cell_type": "code",
   "execution_count": 5,
   "id": "1ed9a14d-1715-49d5-b08c-8f88ee432f9c",
   "metadata": {},
   "outputs": [
    {
     "name": "stdout",
     "output_type": "stream",
     "text": [
      "CPU times: total: 31.5 s\n",
      "Wall time: 31.6 s\n"
     ]
    }
   ],
   "source": [
    "%%time\n",
    "\n",
    "for i in range(N):\n",
    "    z.iloc[i] = x.iloc[i]**2"
   ]
  }
 ],
 "metadata": {
  "kernelspec": {
   "display_name": "Python 3 (ipykernel)",
   "language": "python",
   "name": "python3"
  },
  "language_info": {
   "codemirror_mode": {
    "name": "ipython",
    "version": 3
   },
   "file_extension": ".py",
   "mimetype": "text/x-python",
   "name": "python",
   "nbconvert_exporter": "python",
   "pygments_lexer": "ipython3",
   "version": "3.12.3"
  }
 },
 "nbformat": 4,
 "nbformat_minor": 5
}
