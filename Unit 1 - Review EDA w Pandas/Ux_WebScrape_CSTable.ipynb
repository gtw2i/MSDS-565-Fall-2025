{
 "cells": [
  {
   "cell_type": "code",
   "execution_count": 6,
   "id": "ea4f0fb6-472c-433e-a138-9e19688d0a1a",
   "metadata": {},
   "outputs": [],
   "source": [
    "import numpy as np\n",
    "import pandas as pd\n",
    "import matplotlib.pyplot as plt\n",
    "import seaborn as sns\n",
    "import re\n",
    "from bs4 import BeautifulSoup\n",
    "import requests\n",
    "from tqdm import tqdm\n",
    "\n",
    "pd.set_option('display.max_columns',100)\n",
    "pd.set_option('display.max_rows',100)\n",
    "\n",
    "plt.style.use('dark_background')"
   ]
  },
  {
   "cell_type": "markdown",
   "id": "83617d6f-4b0c-4ebb-a5ff-185c9d2a50aa",
   "metadata": {},
   "source": [
    "# Scrape data"
   ]
  },
  {
   "cell_type": "markdown",
   "id": "9e6c5b2e-06f0-46b9-9f35-4c8f1dbc8dfa",
   "metadata": {},
   "source": [
    "### Read first webpage with list of computer scientists"
   ]
  },
  {
   "cell_type": "code",
   "execution_count": null,
   "id": "3fcea3f2-475c-45b8-a45a-795e55276bb4",
   "metadata": {},
   "outputs": [],
   "source": [
    "# Read webpage and parse with bs4\n",
    "base_url = 'https://en.wikipedia.org/'\n",
    "list_url = 'wiki/List_of_computer_scientists'\n",
    "url = base_url + list_url\n",
    "response = requests.get(url)\n",
    "html = response.text\n",
    "soup = BeautifulSoup(html, 'html.parser')\n",
    "\n",
    "# Get names of scientists and links to their webpages\n",
    "links = {}\n",
    "div = soup.find('div', class_=\"mw-content-ltr mw-parser-output\")\n",
    "for ul in div.find_all('ul')[:-3]:\n",
    "    for li in ul.find_all(\"li\"):\n",
    "        a = li.find(\"a\")\n",
    "        href = a['href']\n",
    "        links[a.text] = href\n",
    "    # end\n",
    "# end"
   ]
  },
  {
   "cell_type": "markdown",
   "id": "7f3975f9-89fa-4bb6-a2ce-c9cf43833136",
   "metadata": {},
   "source": [
    "### Scrape individual pages"
   ]
  },
  {
   "cell_type": "code",
   "execution_count": 20,
   "id": "87be878c-d5e3-4ffc-91a6-8c1b7c227d45",
   "metadata": {},
   "outputs": [
    {
     "name": "stderr",
     "output_type": "stream",
     "text": [
      "  4%|▍           | 26/695 [00:06<02:58,  3.76it/s]"
     ]
    },
    {
     "name": "stdout",
     "output_type": "stream",
     "text": [
      "done\n"
     ]
    },
    {
     "name": "stderr",
     "output_type": "stream",
     "text": [
      "\n"
     ]
    }
   ],
   "source": [
    "# Number of pages to scrape\n",
    "count = 0\n",
    "\n",
    "# Get data from all pages\n",
    "cs_data = {}\n",
    "for k, v in tqdm(links.items(), ncols=50):\n",
    "    # Read individual webpage\n",
    "    url = base_url + v\n",
    "    response = requests.get(url)\n",
    "    html = response.text\n",
    "    soup = BeautifulSoup(html, 'html.parser')\n",
    "    \n",
    "    # Scrape data from individual page\n",
    "    info = {}\n",
    "    try:\n",
    "        table = soup.find('table', class_=\"infobox biography vcard\")\n",
    "        for tr in table.find_all(\"tr\")[2:]:\n",
    "            try:\n",
    "                # Read table header (will become column in dataframe)\n",
    "                a = tr.find('th').text\n",
    "                \n",
    "                # Read table data\n",
    "                b = []\n",
    "                sp = tr.find('td').find_all(\"span\")\n",
    "                if len(sp)>0:\n",
    "                    b += [ item.text for item in sp ]\n",
    "                \n",
    "                li = tr.find('td').find_all(\"li\")\n",
    "                if len(li)>0:\n",
    "                    b += [ item.text for item in li ]\n",
    "                \n",
    "                href = tr.find('td').find_all(\"a\")\n",
    "                if len(href)>0:\n",
    "                    b += [ item.text for item in href ]\n",
    "                \n",
    "                b = \",\".join(b)\n",
    "                \n",
    "                # Compile data into dictionary\n",
    "                info[a] = b\n",
    "            except:\n",
    "                1\n",
    "            # end\n",
    "        # end\n",
    "\n",
    "        cs_data[k] = info\n",
    "        count += 1\n",
    "    except:\n",
    "        1\n",
    "    # end\n",
    "    \n",
    "    # Only read several pages\n",
    "    if count >= 25:\n",
    "        break\n",
    "    # end\n",
    "# end\n",
    "\n",
    "print(\"done\")"
   ]
  },
  {
   "cell_type": "code",
   "execution_count": 21,
   "id": "042ab045-d1d9-4214-914c-28b7f1d868d2",
   "metadata": {},
   "outputs": [
    {
     "name": "stdout",
     "output_type": "stream",
     "text": [
      "<class 'pandas.core.frame.DataFrame'>\n",
      "Index: 25 entries, Wil van der Aalst to John Backus\n",
      "Data columns (total 21 columns):\n",
      " #   Column             Non-Null Count  Dtype \n",
      "---  ------             --------------  ----- \n",
      " 0   Born               20 non-null     object\n",
      " 1   Nationality        8 non-null      object\n",
      " 2   Known for          17 non-null     object\n",
      " 3   Fields             22 non-null     object\n",
      " 4   Institutions       20 non-null     object\n",
      " 5   Thesis             12 non-null     object\n",
      " 6   Doctoral advisor   17 non-null     object\n",
      " 7   Website            10 non-null     object\n",
      " 8   Alma mater         18 non-null     object\n",
      " 9   Spouse             6 non-null      object\n",
      " 10  Awards             17 non-null     object\n",
      " 11  Doctoral students  4 non-null      object\n",
      " 12  Citizenship        3 non-null      object\n",
      " 13  Education          4 non-null      object\n",
      " 14  Died               9 non-null      object\n",
      " 15  Children           4 non-null      object\n",
      " 16  Father             1 non-null      object\n",
      " 17  Relatives          2 non-null      object\n",
      " 18  Occupation         1 non-null      object\n",
      " 19  Occupation(s)      1 non-null      object\n",
      " 20  Spouses            1 non-null      object\n",
      "dtypes: object(21)\n",
      "memory usage: 4.3+ KB\n"
     ]
    },
    {
     "data": {
      "text/html": [
       "<div>\n",
       "<style scoped>\n",
       "    .dataframe tbody tr th:only-of-type {\n",
       "        vertical-align: middle;\n",
       "    }\n",
       "\n",
       "    .dataframe tbody tr th {\n",
       "        vertical-align: top;\n",
       "    }\n",
       "\n",
       "    .dataframe thead th {\n",
       "        text-align: right;\n",
       "    }\n",
       "</style>\n",
       "<table border=\"1\" class=\"dataframe\">\n",
       "  <thead>\n",
       "    <tr style=\"text-align: right;\">\n",
       "      <th></th>\n",
       "      <th>Born</th>\n",
       "      <th>Nationality</th>\n",
       "      <th>Known for</th>\n",
       "      <th>Fields</th>\n",
       "      <th>Institutions</th>\n",
       "      <th>Thesis</th>\n",
       "      <th>Doctoral advisor</th>\n",
       "      <th>Website</th>\n",
       "      <th>Alma mater</th>\n",
       "      <th>Spouse</th>\n",
       "      <th>Awards</th>\n",
       "      <th>Doctoral students</th>\n",
       "      <th>Citizenship</th>\n",
       "      <th>Education</th>\n",
       "      <th>Died</th>\n",
       "      <th>Children</th>\n",
       "      <th>Father</th>\n",
       "      <th>Relatives</th>\n",
       "      <th>Occupation</th>\n",
       "      <th>Occupation(s)</th>\n",
       "      <th>Spouses</th>\n",
       "    </tr>\n",
       "  </thead>\n",
       "  <tbody>\n",
       "    <tr>\n",
       "      <th>Wil van der Aalst</th>\n",
       "      <td>(1966-01-29) ,1966-01-29, (age 58),Eersel,Nor...</td>\n",
       "      <td></td>\n",
       "      <td>Workflow patterns,YAWL</td>\n",
       "      <td>Information systems,Workflow management,Petri ...</td>\n",
       "      <td>RWTH Aachen University</td>\n",
       "      <td>(1992)</td>\n",
       "      <td>Jaap Wessels,Kees van Hee</td>\n",
       "      <td>http://www.padsweb.rwth-aachen.de/wvdaalst/</td>\n",
       "      <td>NaN</td>\n",
       "      <td>NaN</td>\n",
       "      <td>NaN</td>\n",
       "      <td>NaN</td>\n",
       "      <td>NaN</td>\n",
       "      <td>NaN</td>\n",
       "      <td>NaN</td>\n",
       "      <td>NaN</td>\n",
       "      <td>NaN</td>\n",
       "      <td>NaN</td>\n",
       "      <td>NaN</td>\n",
       "      <td>NaN</td>\n",
       "      <td>NaN</td>\n",
       "    </tr>\n",
       "    <tr>\n",
       "      <th>Scott Aaronson</th>\n",
       "      <td>(1981-05-21) ,1981-05-21, (age 43),[,],[,],[1...</td>\n",
       "      <td>American</td>\n",
       "      <td>Quantum Turing machine with postselection,Alge...</td>\n",
       "      <td>Computational complexity theory,quantum computing</td>\n",
       "      <td>University of Texas at Austin,Massachusetts In...</td>\n",
       "      <td>NaN</td>\n",
       "      <td>Umesh Vazirani</td>\n",
       "      <td>scottaaronson.blog,www.scottaaronson.com,scott...</td>\n",
       "      <td>Cornell University,University of California, B...</td>\n",
       "      <td>Dana Moshkovitz</td>\n",
       "      <td>Alan T. Waterman Award,PECASE,Tomassoni–Chises...</td>\n",
       "      <td>NaN</td>\n",
       "      <td>NaN</td>\n",
       "      <td>NaN</td>\n",
       "      <td>NaN</td>\n",
       "      <td>NaN</td>\n",
       "      <td>NaN</td>\n",
       "      <td>NaN</td>\n",
       "      <td>NaN</td>\n",
       "      <td>NaN</td>\n",
       "      <td>NaN</td>\n",
       "    </tr>\n",
       "    <tr>\n",
       "      <th>Rediet Abebe</th>\n",
       "      <td>NaN</td>\n",
       "      <td>NaN</td>\n",
       "      <td>NaN</td>\n",
       "      <td>artificial intelligence,algorithms,computer sc...</td>\n",
       "      <td>University of California, Berkeley,Harvard Uni...</td>\n",
       "      <td>(2019)</td>\n",
       "      <td>Jon M. Kleinberg</td>\n",
       "      <td>www.cs.cornell.edu/~red/,md4sg.com,www.cs.corn...</td>\n",
       "      <td>Cornell University,University of Cambridge,Har...</td>\n",
       "      <td>NaN</td>\n",
       "      <td>Andrew Carnegie Fellow (2022),Harvard Society ...</td>\n",
       "      <td>NaN</td>\n",
       "      <td>NaN</td>\n",
       "      <td>NaN</td>\n",
       "      <td>NaN</td>\n",
       "      <td>NaN</td>\n",
       "      <td>NaN</td>\n",
       "      <td>NaN</td>\n",
       "      <td>NaN</td>\n",
       "      <td>NaN</td>\n",
       "      <td>NaN</td>\n",
       "    </tr>\n",
       "    <tr>\n",
       "      <th>Hal Abelson</th>\n",
       "      <td>(1947-04-26) ,1947-04-26, (age 77),[,],[2]</td>\n",
       "      <td>NaN</td>\n",
       "      <td>[,],[,],Creative Commons,Public Knowledge,Free...</td>\n",
       "      <td>Computer science education,Amorphous computing</td>\n",
       "      <td>Massachusetts Institute of Technology</td>\n",
       "      <td>(1973),Topologically Distinct Conjugate-Variet...</td>\n",
       "      <td>[,],Dennis Sullivan,[1]</td>\n",
       "      <td>www.csail.mit.edu/person/hal-abelson,,www.csai...</td>\n",
       "      <td>Princeton University (BA),Massachusetts Instit...</td>\n",
       "      <td>NaN</td>\n",
       "      <td>SIGCSE Award for Outstanding Contribution to C...</td>\n",
       "      <td>[,],[,],[,],Elizabeth Bradley[1],Mitchel Resni...</td>\n",
       "      <td>NaN</td>\n",
       "      <td>NaN</td>\n",
       "      <td>NaN</td>\n",
       "      <td>NaN</td>\n",
       "      <td>NaN</td>\n",
       "      <td>NaN</td>\n",
       "      <td>NaN</td>\n",
       "      <td>NaN</td>\n",
       "      <td>NaN</td>\n",
       "    </tr>\n",
       "    <tr>\n",
       "      <th>Serge Abiteboul</th>\n",
       "      <td>(1953-08-25) ,1953-08-25, (age 71),[,],[4],Paris</td>\n",
       "      <td>French</td>\n",
       "      <td>[,],[,],[,],Abiteboul-Vianu Theorem[5][6],Data...</td>\n",
       "      <td>[,],Data bases,[2]</td>\n",
       "      <td>INRIA</td>\n",
       "      <td>(1982),Matching Functions and Disaggregations ...</td>\n",
       "      <td>[,],Seymour Ginsburg,[3]</td>\n",
       "      <td>abiteboul.com,abiteboul.com</td>\n",
       "      <td>University of Southern California</td>\n",
       "      <td>NaN</td>\n",
       "      <td>[,],citation needed,when?,SIGMOD Edgar F. Codd...</td>\n",
       "      <td>NaN</td>\n",
       "      <td>French</td>\n",
       "      <td>NaN</td>\n",
       "      <td>NaN</td>\n",
       "      <td>NaN</td>\n",
       "      <td>NaN</td>\n",
       "      <td>NaN</td>\n",
       "      <td>NaN</td>\n",
       "      <td>NaN</td>\n",
       "      <td>NaN</td>\n",
       "    </tr>\n",
       "  </tbody>\n",
       "</table>\n",
       "</div>"
      ],
      "text/plain": [
       "                                                                Born  \\\n",
       "Wil van der Aalst   (1966-01-29) ,1966-01-29, (age 58),Eersel,Nor...   \n",
       "Scott Aaronson      (1981-05-21) ,1981-05-21, (age 43),[,],[,],[1...   \n",
       "Rediet Abebe                                                     NaN   \n",
       "Hal Abelson               (1947-04-26) ,1947-04-26, (age 77),[,],[2]   \n",
       "Serge Abiteboul     (1953-08-25) ,1953-08-25, (age 71),[,],[4],Paris   \n",
       "\n",
       "                  Nationality  \\\n",
       "Wil van der Aalst               \n",
       "Scott Aaronson       American   \n",
       "Rediet Abebe              NaN   \n",
       "Hal Abelson               NaN   \n",
       "Serge Abiteboul        French   \n",
       "\n",
       "                                                           Known for  \\\n",
       "Wil van der Aalst                             Workflow patterns,YAWL   \n",
       "Scott Aaronson     Quantum Turing machine with postselection,Alge...   \n",
       "Rediet Abebe                                                     NaN   \n",
       "Hal Abelson        [,],[,],Creative Commons,Public Knowledge,Free...   \n",
       "Serge Abiteboul    [,],[,],[,],Abiteboul-Vianu Theorem[5][6],Data...   \n",
       "\n",
       "                                                              Fields  \\\n",
       "Wil van der Aalst  Information systems,Workflow management,Petri ...   \n",
       "Scott Aaronson     Computational complexity theory,quantum computing   \n",
       "Rediet Abebe       artificial intelligence,algorithms,computer sc...   \n",
       "Hal Abelson           Computer science education,Amorphous computing   \n",
       "Serge Abiteboul                                   [,],Data bases,[2]   \n",
       "\n",
       "                                                        Institutions  \\\n",
       "Wil van der Aalst                             RWTH Aachen University   \n",
       "Scott Aaronson     University of Texas at Austin,Massachusetts In...   \n",
       "Rediet Abebe       University of California, Berkeley,Harvard Uni...   \n",
       "Hal Abelson                    Massachusetts Institute of Technology   \n",
       "Serge Abiteboul                                                INRIA   \n",
       "\n",
       "                                                              Thesis  \\\n",
       "Wil van der Aalst                                             (1992)   \n",
       "Scott Aaronson                                                   NaN   \n",
       "Rediet Abebe                                                  (2019)   \n",
       "Hal Abelson        (1973),Topologically Distinct Conjugate-Variet...   \n",
       "Serge Abiteboul    (1982),Matching Functions and Disaggregations ...   \n",
       "\n",
       "                            Doctoral advisor  \\\n",
       "Wil van der Aalst  Jaap Wessels,Kees van Hee   \n",
       "Scott Aaronson                Umesh Vazirani   \n",
       "Rediet Abebe                Jon M. Kleinberg   \n",
       "Hal Abelson          [,],Dennis Sullivan,[1]   \n",
       "Serge Abiteboul     [,],Seymour Ginsburg,[3]   \n",
       "\n",
       "                                                             Website  \\\n",
       "Wil van der Aalst        http://www.padsweb.rwth-aachen.de/wvdaalst/   \n",
       "Scott Aaronson     scottaaronson.blog,www.scottaaronson.com,scott...   \n",
       "Rediet Abebe       www.cs.cornell.edu/~red/,md4sg.com,www.cs.corn...   \n",
       "Hal Abelson        www.csail.mit.edu/person/hal-abelson,,www.csai...   \n",
       "Serge Abiteboul                          abiteboul.com,abiteboul.com   \n",
       "\n",
       "                                                          Alma mater  \\\n",
       "Wil van der Aalst                                                NaN   \n",
       "Scott Aaronson     Cornell University,University of California, B...   \n",
       "Rediet Abebe       Cornell University,University of Cambridge,Har...   \n",
       "Hal Abelson        Princeton University (BA),Massachusetts Instit...   \n",
       "Serge Abiteboul                    University of Southern California   \n",
       "\n",
       "                            Spouse  \\\n",
       "Wil van der Aalst              NaN   \n",
       "Scott Aaronson     Dana Moshkovitz   \n",
       "Rediet Abebe                   NaN   \n",
       "Hal Abelson                    NaN   \n",
       "Serge Abiteboul                NaN   \n",
       "\n",
       "                                                              Awards  \\\n",
       "Wil van der Aalst                                                NaN   \n",
       "Scott Aaronson     Alan T. Waterman Award,PECASE,Tomassoni–Chises...   \n",
       "Rediet Abebe       Andrew Carnegie Fellow (2022),Harvard Society ...   \n",
       "Hal Abelson        SIGCSE Award for Outstanding Contribution to C...   \n",
       "Serge Abiteboul    [,],citation needed,when?,SIGMOD Edgar F. Codd...   \n",
       "\n",
       "                                                   Doctoral students  \\\n",
       "Wil van der Aalst                                                NaN   \n",
       "Scott Aaronson                                                   NaN   \n",
       "Rediet Abebe                                                     NaN   \n",
       "Hal Abelson        [,],[,],[,],Elizabeth Bradley[1],Mitchel Resni...   \n",
       "Serge Abiteboul                                                  NaN   \n",
       "\n",
       "                  Citizenship Education Died Children Father Relatives  \\\n",
       "Wil van der Aalst         NaN       NaN  NaN      NaN    NaN       NaN   \n",
       "Scott Aaronson            NaN       NaN  NaN      NaN    NaN       NaN   \n",
       "Rediet Abebe              NaN       NaN  NaN      NaN    NaN       NaN   \n",
       "Hal Abelson               NaN       NaN  NaN      NaN    NaN       NaN   \n",
       "Serge Abiteboul        French       NaN  NaN      NaN    NaN       NaN   \n",
       "\n",
       "                  Occupation Occupation(s) Spouses  \n",
       "Wil van der Aalst        NaN           NaN     NaN  \n",
       "Scott Aaronson           NaN           NaN     NaN  \n",
       "Rediet Abebe             NaN           NaN     NaN  \n",
       "Hal Abelson              NaN           NaN     NaN  \n",
       "Serge Abiteboul          NaN           NaN     NaN  "
      ]
     },
     "execution_count": 21,
     "metadata": {},
     "output_type": "execute_result"
    }
   ],
   "source": [
    "df = pd.DataFrame(cs_data).T\n",
    "\n",
    "df.info()\n",
    "df.head()"
   ]
  },
  {
   "cell_type": "markdown",
   "id": "e97fa2ab-877c-41a3-825c-9b1e1e661820",
   "metadata": {},
   "source": [
    "# Clean data"
   ]
  },
  {
   "cell_type": "markdown",
   "id": "6aa3637e-33d2-4b67-bd6d-572763c73bec",
   "metadata": {},
   "source": [
    "### Remove Unicode characters"
   ]
  },
  {
   "cell_type": "code",
   "execution_count": 22,
   "id": "01324a89-2ceb-401a-a599-4cc136a26f68",
   "metadata": {},
   "outputs": [],
   "source": [
    "df.columns = pd.Series(df.columns).apply(\n",
    "    lambda x: x.replace('\\xa0', ' ').strip() if type(x)==str else x\n",
    ")"
   ]
  },
  {
   "cell_type": "code",
   "execution_count": 23,
   "id": "da560f4a-d892-4ad9-bbe6-ead4e77977c3",
   "metadata": {},
   "outputs": [],
   "source": [
    "for c in df.columns:\n",
    "    df[c] = df[c].apply(\n",
    "        lambda x: x.replace('\\xa0', ' ').strip() if type(x)==str else np.nan\n",
    "    )\n",
    "# end"
   ]
  },
  {
   "cell_type": "markdown",
   "id": "a2c69ce1-5886-4543-a5e8-866b8f1b0053",
   "metadata": {},
   "source": [
    "### Drop sparse columns and rows"
   ]
  },
  {
   "cell_type": "code",
   "execution_count": 24,
   "id": "68355381-33a6-406a-a569-3507aebac1d6",
   "metadata": {},
   "outputs": [
    {
     "data": {
      "text/plain": [
       "(25, 21)"
      ]
     },
     "execution_count": 24,
     "metadata": {},
     "output_type": "execute_result"
    }
   ],
   "source": [
    "# Check original shape\n",
    "df.shape"
   ]
  },
  {
   "cell_type": "code",
   "execution_count": 25,
   "id": "5fcfb4d9-589e-433e-9277-f13fba5854c5",
   "metadata": {},
   "outputs": [
    {
     "data": {
      "text/plain": [
       "(25, 8)"
      ]
     },
     "execution_count": 25,
     "metadata": {},
     "output_type": "execute_result"
    }
   ],
   "source": [
    "# Remove columns with less than half of their rows non-null\n",
    "df = df.dropna(thresh=df.shape[0]//2, axis=1)\n",
    "df.shape"
   ]
  },
  {
   "cell_type": "code",
   "execution_count": 26,
   "id": "c063ad75-123e-4a24-917b-4b6d74570fd5",
   "metadata": {},
   "outputs": [
    {
     "data": {
      "text/plain": [
       "(21, 8)"
      ]
     },
     "execution_count": 26,
     "metadata": {},
     "output_type": "execute_result"
    }
   ],
   "source": [
    "# Remove rows with less than half of their columns non-null\n",
    "df = df.dropna(thresh=df.shape[1]//2, axis=0)\n",
    "df.shape"
   ]
  },
  {
   "cell_type": "markdown",
   "id": "dbfdb9d6-d2e3-46b5-bdb8-652edc5656e7",
   "metadata": {},
   "source": [
    "### Extract dates from Born column"
   ]
  },
  {
   "cell_type": "code",
   "execution_count": 11,
   "id": "ec3bc516-3c49-4dff-88c0-bc2f58ba6907",
   "metadata": {},
   "outputs": [
    {
     "data": {
      "text/plain": [
       "Wil van der Aalst              1966-01-29\n",
       "Scott Aaronson                 1981-05-21\n",
       "Rediet Abebe                          NaN\n",
       "Hal Abelson                    1947-04-26\n",
       "Serge Abiteboul                1953-08-25\n",
       "Samson Abramsky                1953-03-12\n",
       "Leonard Adleman                1945-12-31\n",
       "Manindra Agrawal               1966-05-20\n",
       "Luis von Ahn                   1978-08-19\n",
       "Alfred Aho                            NaN\n",
       "Frances E. Allen               1932-08-04\n",
       "Gene Amdahl                    1922-11-16\n",
       "David P. Anderson                     NaN\n",
       "Andrew Appel                          NaN\n",
       "Cecilia R. Aragon                     NaN\n",
       "Bruce Arden                    1927-05-29\n",
       "Sanjeev Arora                         NaN\n",
       "Winifred \"Tim\" Alice Asprey    1917-04-08\n",
       "John Vincent Atanasoff         1903-10-04\n",
       "Shakuntala Atre                       NaN\n",
       "Lennart Augustsson                    NaN\n",
       "Charles Babbage                1791-12-26\n",
       "Charles Bachman                1924-12-11\n",
       "Roland Carl Backhouse          1948-08-18\n",
       "John Backus                    1924-12-03\n",
       "Name: Born, dtype: object"
      ]
     },
     "execution_count": 11,
     "metadata": {},
     "output_type": "execute_result"
    }
   ],
   "source": [
    "def fix_born( x ):\n",
    "    if type(x) == str:\n",
    "        matches = re.findall(r\"\\d{4}-\\d{2}-\\d{2}\", x)\n",
    "        if len(matches) > 0:\n",
    "            return matches[0]\n",
    "        # end\n",
    "    # end\n",
    "\n",
    "    return np.nan\n",
    "# end\n",
    "\n",
    "df.Born.apply( fix_born )"
   ]
  },
  {
   "cell_type": "markdown",
   "id": "4839b81c-9540-45d5-b001-c60622f8a087",
   "metadata": {},
   "source": [
    "### Get Fields dummies"
   ]
  },
  {
   "cell_type": "code",
   "execution_count": 13,
   "id": "b236e8ad-35c6-4107-a121-28ae1c5a671f",
   "metadata": {},
   "outputs": [
    {
     "data": {
      "text/plain": [
       "computer science                       12\n",
       "[                                       2\n",
       "theoretical computer science            2\n",
       "[2]                                     2\n",
       "]                                       2\n",
       "specification languages                 1\n",
       "simulation                              1\n",
       "quantum information and foundations     1\n",
       "quantum information                     1\n",
       "quantum computing                       1\n",
       "inequality                              1\n",
       "physics                                 1\n",
       "petri nets                              1\n",
       "parallel computing                      1\n",
       "optimizing compilers                    1\n",
       "mathematics                             1\n",
       "information systems                     1\n",
       "process mining                          1\n",
       "high-performance computing              1\n",
       "human-based computation games           1\n",
       "game semantics                          1\n",
       "functional programming                  1\n",
       "foundations                             1\n",
       "data bases                              1\n",
       "cryptography                            1\n",
       "computer science education              1\n",
       "computational complexity theory         1\n",
       "compilers                               1\n",
       "category theory[2]                      1\n",
       "category theory                         1\n",
       "artificial intelligence                 1\n",
       "amorphous computing                     1\n",
       "algorithms                              1\n",
       "workflow management                     1\n",
       "dtype: int64"
      ]
     },
     "execution_count": 13,
     "metadata": {},
     "output_type": "execute_result"
    }
   ],
   "source": [
    "df.Fields.str.lower().str.get_dummies(\",\").sum(axis=0).sort_values(ascending=False)"
   ]
  }
 ],
 "metadata": {
  "kernelspec": {
   "display_name": "Python 3 (ipykernel)",
   "language": "python",
   "name": "python3"
  },
  "language_info": {
   "codemirror_mode": {
    "name": "ipython",
    "version": 3
   },
   "file_extension": ".py",
   "mimetype": "text/x-python",
   "name": "python",
   "nbconvert_exporter": "python",
   "pygments_lexer": "ipython3",
   "version": "3.9.7"
  }
 },
 "nbformat": 4,
 "nbformat_minor": 5
}
