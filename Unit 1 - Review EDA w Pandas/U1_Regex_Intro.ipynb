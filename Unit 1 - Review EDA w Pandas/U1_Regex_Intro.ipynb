{
 "cells": [
  {
   "cell_type": "markdown",
   "id": "05887720-c890-48ff-85b8-4938d0575149",
   "metadata": {},
   "source": [
    "# Regex w/ Python\n",
    "\n",
    "https://www.w3schools.com/python/python_regex.asp"
   ]
  },
  {
   "cell_type": "code",
   "execution_count": 1,
   "id": "e119996c-ad22-4c11-aa3b-ef71929f42dd",
   "metadata": {},
   "outputs": [],
   "source": [
    "import re"
   ]
  },
  {
   "cell_type": "code",
   "execution_count": 2,
   "id": "1eecbefe-d240-434d-9258-07a8334d63c3",
   "metadata": {},
   "outputs": [
    {
     "name": "stdout",
     "output_type": "stream",
     "text": [
      "If you know Python,    then\n",
      "you're power level is over 9000\n"
     ]
    }
   ],
   "source": [
    "text = \"If you know Python,    then\\nyou're power level is over 9000\"\n",
    "print(text)"
   ]
  },
  {
   "cell_type": "code",
   "execution_count": 3,
   "id": "2a16d186-e720-4f96-90f1-45c0c61bc4dd",
   "metadata": {},
   "outputs": [
    {
     "data": {
      "text/plain": [
       "['If',\n",
       " 'you',\n",
       " 'know',\n",
       " 'Python',\n",
       " 'then',\n",
       " 'you',\n",
       " 're',\n",
       " 'power',\n",
       " 'level',\n",
       " 'is',\n",
       " 'over',\n",
       " '9000']"
      ]
     },
     "execution_count": 3,
     "metadata": {},
     "output_type": "execute_result"
    }
   ],
   "source": [
    "# find all words (no contractions)\n",
    "re.findall(r\"\\w+\", text)"
   ]
  },
  {
   "cell_type": "code",
   "execution_count": 4,
   "id": "71c41d0b-c133-4efd-8e5c-c9ccd5c65f08",
   "metadata": {},
   "outputs": [
    {
     "data": {
      "text/plain": [
       "['If',\n",
       " 'you',\n",
       " 'know',\n",
       " 'Python',\n",
       " 'then',\n",
       " \"you're\",\n",
       " 'power',\n",
       " 'level',\n",
       " 'is',\n",
       " 'over',\n",
       " '9000']"
      ]
     },
     "execution_count": 4,
     "metadata": {},
     "output_type": "execute_result"
    }
   ],
   "source": [
    "# find all words (with contractions)\n",
    "re.findall(r\"[\\w']+\", text)"
   ]
  },
  {
   "cell_type": "code",
   "execution_count": 5,
   "id": "d17618c5-d399-47dd-ada6-c978df2b385e",
   "metadata": {},
   "outputs": [
    {
     "data": {
      "text/plain": [
       "['9000']"
      ]
     },
     "execution_count": 5,
     "metadata": {},
     "output_type": "execute_result"
    }
   ],
   "source": [
    "# find all numbers\n",
    "re.findall(r\"\\d+\", text)"
   ]
  },
  {
   "cell_type": "code",
   "execution_count": 6,
   "id": "c15179d0-e31d-4647-b0f5-b9c9c9b2eb34",
   "metadata": {},
   "outputs": [
    {
     "data": {
      "text/plain": [
       "['(615) 555-1234', '(012) 345-6789']"
      ]
     },
     "execution_count": 6,
     "metadata": {},
     "output_type": "execute_result"
    }
   ],
   "source": [
    "# find phone numbers\n",
    "text = \"my number is (615) 555-1234. her number is (012) 345-6789\"\n",
    "\n",
    "re.findall(r\"\\(\\d{3}\\) \\d{3}-\\d{4}\", text)"
   ]
  },
  {
   "cell_type": "code",
   "execution_count": 7,
   "id": "f4bde03f-212e-4dc7-a2c6-72352dd8b214",
   "metadata": {},
   "outputs": [
    {
     "data": {
      "text/plain": [
       "['$12.21', '$4,001.99', '$1,033,080.01']"
      ]
     },
     "execution_count": 7,
     "metadata": {},
     "output_type": "execute_result"
    }
   ],
   "source": [
    "# find dates\n",
    "text = \"I made $12.21 she made $4,001.99 he made $1,033,080.01\"\n",
    "\n",
    "matches = re.findall(\"\\$([\\d,]+\\.\\d{2})\", text)\n",
    "#matches = [ m.replace(',','') for m in matches ]\n",
    "matches = [ re.sub(',', '', m) for m in matches ]\n",
    "matches = [ float(m) for m in matches ]\n",
    "matches"
   ]
  }
 ],
 "metadata": {
  "kernelspec": {
   "display_name": "Python 3 (ipykernel)",
   "language": "python",
   "name": "python3"
  },
  "language_info": {
   "codemirror_mode": {
    "name": "ipython",
    "version": 3
   },
   "file_extension": ".py",
   "mimetype": "text/x-python",
   "name": "python",
   "nbconvert_exporter": "python",
   "pygments_lexer": "ipython3",
   "version": "3.12.3"
  }
 },
 "nbformat": 4,
 "nbformat_minor": 5
}
