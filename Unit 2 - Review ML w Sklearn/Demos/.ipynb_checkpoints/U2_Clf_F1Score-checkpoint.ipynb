{
 "cells": [
  {
   "cell_type": "code",
   "execution_count": 1,
   "id": "c2d84d2f-a915-4d39-9b61-104cb85feba1",
   "metadata": {},
   "outputs": [],
   "source": [
    "import numpy as np\n",
    "import pandas as pd\n",
    "import matplotlib.pyplot as plt\n",
    "import seaborn as sns\n",
    "\n",
    "pd.set_option('display.max_columns',100)\n",
    "pd.set_option('display.max_rows',100)\n",
    "\n",
    "plt.style.use('dark_background')"
   ]
  },
  {
   "cell_type": "markdown",
   "id": "18c40ca8-cef4-48c4-a621-e8b2785464b1",
   "metadata": {},
   "source": [
    "### Notice how the f1 score is always in between the precision and recall, but is usually closer to the smaller one of the two rather than simply the average."
   ]
  },
  {
   "cell_type": "code",
   "execution_count": 54,
   "id": "f28fc28c-a2cc-4834-8b5d-a25cc784a4ce",
   "metadata": {},
   "outputs": [
    {
     "data": {
      "image/png": "[encoded data removed]",
      "text/plain": [
       "<Figure size 432x288 with 1 Axes>"
      ]
     },
     "metadata": {
      "needs_background": "dark"
     },
     "output_type": "display_data"
    }
   ],
   "source": [
    "p = np.random.rand()\n",
    "r = np.random.rand()\n",
    "f = 2 * p * r / ( p + r )\n",
    "\n",
    "plt.plot( p, 0, 'r.', markersize=10, label='Precision')\n",
    "plt.plot( r, 0, 'b.', markersize=10, label='Recall')\n",
    "plt.plot( f, 0, 'g.', markersize=10, label='F1')\n",
    "plt.xlim(0,1)\n",
    "plt.legend()\n",
    "plt.show()"
   ]
  },
  {
   "cell_type": "code",
   "execution_count": null,
   "id": "00e4e12f-36f8-42dc-adb5-5a27b70dc000",
   "metadata": {},
   "outputs": [],
   "source": [
    "from mpl_toolkits.mplot3d import Axes3D\n",
    "\n",
    "# Create a range of values from 0 to 1\n",
    "pre = np.linspace(0, 1, 100)\n",
    "rec = np.linspace(0, 1, 100)\n",
    "\n",
    "# Create a meshgrid\n",
    "PRE, REC = np.meshgrid(pre, rec)\n",
    "\n",
    "# Calculate F1 score\n",
    "F1 = 2 * PRE * REC / (PRE + REC + 1e-9)\n",
    "\n",
    "%matplotlib qt\n",
    "\n",
    "# Create a 3D plot\n",
    "fig = plt.figure(figsize=(8, 6))\n",
    "ax = fig.add_subplot(111, projection='3d')\n",
    "\n",
    "# Plot the surface\n",
    "ax.plot_surface(PRE, REC, PRE, color='r', alpha=0.3)\n",
    "ax.plot_surface(PRE, REC, REC, color='b', alpha=0.3)\n",
    "ax.plot_surface(PRE, REC, F1,  cmap='nipy_spectral')\n",
    "\n",
    "# Labeling\n",
    "ax.set_xlabel('Precision (PRE)')\n",
    "ax.set_ylabel('Recall (REC)')\n",
    "ax.set_zlabel('F1 Score')\n",
    "ax.set_title('3D Plot of F1 Score vs Precision and Recall')\n",
    "#plt.show()"
   ]
  },
  {
   "cell_type": "code",
   "execution_count": null,
   "id": "d038f46d-e6b7-447b-9c5b-236adacc20a2",
   "metadata": {},
   "outputs": [],
   "source": []
  }
 ],
 "metadata": {
  "kernelspec": {
   "display_name": "Python 3 (ipykernel)",
   "language": "python",
   "name": "python3"
  },
  "language_info": {
   "codemirror_mode": {
    "name": "ipython",
    "version": 3
   },
   "file_extension": ".py",
   "mimetype": "text/x-python",
   "name": "python",
   "nbconvert_exporter": "python",
   "pygments_lexer": "ipython3",
   "version": "3.9.7"
  }
 },
 "nbformat": 4,
 "nbformat_minor": 5
}
