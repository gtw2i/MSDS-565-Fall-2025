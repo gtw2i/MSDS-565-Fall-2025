{
 "cells": [
  {
   "cell_type": "markdown",
   "id": "aa0d2dee-ec6d-4e0c-bfc0-72e694904fd0",
   "metadata": {},
   "source": [
    "# https://scikit-learn.org/stable/modules/classes.html#module-sklearn.preprocessing"
   ]
  },
  {
   "cell_type": "code",
   "execution_count": 2,
   "id": "e41242f1-5882-476a-b182-27e597152bb8",
   "metadata": {},
   "outputs": [],
   "source": [
    "import numpy as np\n",
    "import pandas as pd\n",
    "import matplotlib.pyplot as plt\n",
    "import seaborn as sns\n",
    "\n",
    "pd.set_option('display.max_columns',100)\n",
    "pd.set_option('display.max_rows',100)\n",
    "\n",
    "plt.style.use('dark_background')"
   ]
  },
  {
   "cell_type": "markdown",
   "id": "70e5875d-2d60-4944-8e72-e2ab8ea649f8",
   "metadata": {},
   "source": [
    "# Preprocessing numerical data"
   ]
  },
  {
   "cell_type": "markdown",
   "id": "f156d5da-950b-478e-8278-2b7bcf4928ea",
   "metadata": {},
   "source": [
    "### Create data"
   ]
  },
  {
   "cell_type": "code",
   "execution_count": 28,
   "id": "17e40651-c274-420a-af3e-a2e8ab095cb7",
   "metadata": {},
   "outputs": [
    {
     "data": {
      "text/html": [
       "<div>\n",
       "<style scoped>\n",
       "    .dataframe tbody tr th:only-of-type {\n",
       "        vertical-align: middle;\n",
       "    }\n",
       "\n",
       "    .dataframe tbody tr th {\n",
       "        vertical-align: top;\n",
       "    }\n",
       "\n",
       "    .dataframe thead th {\n",
       "        text-align: right;\n",
       "    }\n",
       "</style>\n",
       "<table border=\"1\" class=\"dataframe\">\n",
       "  <thead>\n",
       "    <tr style=\"text-align: right;\">\n",
       "      <th></th>\n",
       "      <th>count</th>\n",
       "      <th>mean</th>\n",
       "      <th>std</th>\n",
       "      <th>min</th>\n",
       "      <th>25%</th>\n",
       "      <th>50%</th>\n",
       "      <th>75%</th>\n",
       "      <th>max</th>\n",
       "    </tr>\n",
       "  </thead>\n",
       "  <tbody>\n",
       "    <tr>\n",
       "      <th>0</th>\n",
       "      <td>1000.0</td>\n",
       "      <td>0.934234</td>\n",
       "      <td>1.000906</td>\n",
       "      <td>-1.909247</td>\n",
       "      <td>0.219893</td>\n",
       "      <td>0.969794</td>\n",
       "      <td>1.630004</td>\n",
       "      <td>3.890294</td>\n",
       "    </tr>\n",
       "    <tr>\n",
       "      <th>1</th>\n",
       "      <td>1000.0</td>\n",
       "      <td>-0.082828</td>\n",
       "      <td>1.135736</td>\n",
       "      <td>-4.004666</td>\n",
       "      <td>-0.880909</td>\n",
       "      <td>-0.075382</td>\n",
       "      <td>0.713826</td>\n",
       "      <td>2.874216</td>\n",
       "    </tr>\n",
       "  </tbody>\n",
       "</table>\n",
       "</div>"
      ],
      "text/plain": [
       "    count      mean       std       min       25%       50%       75%  \\\n",
       "0  1000.0  0.934234  1.000906 -1.909247  0.219893  0.969794  1.630004   \n",
       "1  1000.0 -0.082828  1.135736 -4.004666 -0.880909 -0.075382  0.713826   \n",
       "\n",
       "        max  \n",
       "0  3.890294  \n",
       "1  2.874216  "
      ]
     },
     "metadata": {},
     "output_type": "display_data"
    },
    {
     "data": {
      "text/html": [
       "<div>\n",
       "<style scoped>\n",
       "    .dataframe tbody tr th:only-of-type {\n",
       "        vertical-align: middle;\n",
       "    }\n",
       "\n",
       "    .dataframe tbody tr th {\n",
       "        vertical-align: top;\n",
       "    }\n",
       "\n",
       "    .dataframe thead th {\n",
       "        text-align: right;\n",
       "    }\n",
       "</style>\n",
       "<table border=\"1\" class=\"dataframe\">\n",
       "  <thead>\n",
       "    <tr style=\"text-align: right;\">\n",
       "      <th></th>\n",
       "      <th>0</th>\n",
       "      <th>1</th>\n",
       "    </tr>\n",
       "  </thead>\n",
       "  <tbody>\n",
       "    <tr>\n",
       "      <th>0</th>\n",
       "      <td>1.000000</td>\n",
       "      <td>0.898584</td>\n",
       "    </tr>\n",
       "    <tr>\n",
       "      <th>1</th>\n",
       "      <td>0.898584</td>\n",
       "      <td>1.000000</td>\n",
       "    </tr>\n",
       "  </tbody>\n",
       "</table>\n",
       "</div>"
      ],
      "text/plain": [
       "          0         1\n",
       "0  1.000000  0.898584\n",
       "1  0.898584  1.000000"
      ]
     },
     "metadata": {},
     "output_type": "display_data"
    },
    {
     "data": {
      "image/png": "[encoded data removed]",
      "text/plain": [
       "<Figure size 640x480 with 1 Axes>"
      ]
     },
     "metadata": {},
     "output_type": "display_data"
    }
   ],
   "source": [
    "nPts= 1000\n",
    "\n",
    "a = np.random.normal( 1, 1, nPts)\n",
    "b = np.random.normal(-1, 0.5, nPts) + a\n",
    "X = np.array([a,b]).T\n",
    "\n",
    "df_X = pd.DataFrame(X)\n",
    "display(df_X.describe().T)\n",
    "display(df_X.corr())\n",
    "\n",
    "plt.plot( X[:,0], X[:,1], '.' )\n",
    "plt.xlim(-6,6)\n",
    "plt.ylim(-6,6)\n",
    "plt.gca().set_aspect('equal')"
   ]
  },
  {
   "cell_type": "markdown",
   "id": "40bb0202-6e7e-485b-b882-a7d10affb276",
   "metadata": {},
   "source": [
    "### Standard scaler (convert to z-score: mean=0, std=1)"
   ]
  },
  {
   "cell_type": "code",
   "execution_count": 29,
   "id": "8f284f06-44a1-4be1-9bb6-d98fbd56942d",
   "metadata": {},
   "outputs": [
    {
     "data": {
      "text/html": [
       "<div>\n",
       "<style scoped>\n",
       "    .dataframe tbody tr th:only-of-type {\n",
       "        vertical-align: middle;\n",
       "    }\n",
       "\n",
       "    .dataframe tbody tr th {\n",
       "        vertical-align: top;\n",
       "    }\n",
       "\n",
       "    .dataframe thead th {\n",
       "        text-align: right;\n",
       "    }\n",
       "</style>\n",
       "<table border=\"1\" class=\"dataframe\">\n",
       "  <thead>\n",
       "    <tr style=\"text-align: right;\">\n",
       "      <th></th>\n",
       "      <th>count</th>\n",
       "      <th>mean</th>\n",
       "      <th>std</th>\n",
       "      <th>min</th>\n",
       "      <th>25%</th>\n",
       "      <th>50%</th>\n",
       "      <th>75%</th>\n",
       "      <th>max</th>\n",
       "    </tr>\n",
       "  </thead>\n",
       "  <tbody>\n",
       "    <tr>\n",
       "      <th>0</th>\n",
       "      <td>1000.0</td>\n",
       "      <td>1.243450e-17</td>\n",
       "      <td>1.0005</td>\n",
       "      <td>-2.842329</td>\n",
       "      <td>-0.714052</td>\n",
       "      <td>0.035546</td>\n",
       "      <td>0.695488</td>\n",
       "      <td>2.954862</td>\n",
       "    </tr>\n",
       "    <tr>\n",
       "      <th>1</th>\n",
       "      <td>1000.0</td>\n",
       "      <td>-1.865175e-17</td>\n",
       "      <td>1.0005</td>\n",
       "      <td>-3.454851</td>\n",
       "      <td>-0.703050</td>\n",
       "      <td>0.006560</td>\n",
       "      <td>0.701794</td>\n",
       "      <td>2.604939</td>\n",
       "    </tr>\n",
       "  </tbody>\n",
       "</table>\n",
       "</div>"
      ],
      "text/plain": [
       "    count          mean     std       min       25%       50%       75%  \\\n",
       "0  1000.0  1.243450e-17  1.0005 -2.842329 -0.714052  0.035546  0.695488   \n",
       "1  1000.0 -1.865175e-17  1.0005 -3.454851 -0.703050  0.006560  0.701794   \n",
       "\n",
       "        max  \n",
       "0  2.954862  \n",
       "1  2.604939  "
      ]
     },
     "metadata": {},
     "output_type": "display_data"
    },
    {
     "data": {
      "text/html": [
       "<div>\n",
       "<style scoped>\n",
       "    .dataframe tbody tr th:only-of-type {\n",
       "        vertical-align: middle;\n",
       "    }\n",
       "\n",
       "    .dataframe tbody tr th {\n",
       "        vertical-align: top;\n",
       "    }\n",
       "\n",
       "    .dataframe thead th {\n",
       "        text-align: right;\n",
       "    }\n",
       "</style>\n",
       "<table border=\"1\" class=\"dataframe\">\n",
       "  <thead>\n",
       "    <tr style=\"text-align: right;\">\n",
       "      <th></th>\n",
       "      <th>0</th>\n",
       "      <th>1</th>\n",
       "    </tr>\n",
       "  </thead>\n",
       "  <tbody>\n",
       "    <tr>\n",
       "      <th>0</th>\n",
       "      <td>1.000000</td>\n",
       "      <td>0.898584</td>\n",
       "    </tr>\n",
       "    <tr>\n",
       "      <th>1</th>\n",
       "      <td>0.898584</td>\n",
       "      <td>1.000000</td>\n",
       "    </tr>\n",
       "  </tbody>\n",
       "</table>\n",
       "</div>"
      ],
      "text/plain": [
       "          0         1\n",
       "0  1.000000  0.898584\n",
       "1  0.898584  1.000000"
      ]
     },
     "metadata": {},
     "output_type": "display_data"
    },
    {
     "data": {
      "image/png": "[encoded data removed]",
      "text/plain": [
       "<Figure size 640x480 with 1 Axes>"
      ]
     },
     "metadata": {},
     "output_type": "display_data"
    }
   ],
   "source": [
    "from sklearn.preprocessing import StandardScaler\n",
    "\n",
    "scaler = StandardScaler()\n",
    "X1 = scaler.fit_transform(X)\n",
    "\n",
    "df_X1 = pd.DataFrame(X1)\n",
    "display(df_X1.describe().T)\n",
    "display(df_X1.corr())\n",
    "\n",
    "plt.plot( X1[:,0], X1[:,1], '.' )\n",
    "plt.xlim(-6,6)\n",
    "plt.ylim(-6,6)\n",
    "plt.gca().set_aspect('equal')"
   ]
  },
  {
   "cell_type": "markdown",
   "id": "d302165d-d89f-4971-a44d-23c8852c6b32",
   "metadata": {},
   "source": [
    "### Min max scaler (scale values to between 0 - 1)"
   ]
  },
  {
   "cell_type": "code",
   "execution_count": 30,
   "id": "a31b5220-5508-4960-94b2-3fa265b86d4e",
   "metadata": {},
   "outputs": [
    {
     "data": {
      "text/html": [
       "<div>\n",
       "<style scoped>\n",
       "    .dataframe tbody tr th:only-of-type {\n",
       "        vertical-align: middle;\n",
       "    }\n",
       "\n",
       "    .dataframe tbody tr th {\n",
       "        vertical-align: top;\n",
       "    }\n",
       "\n",
       "    .dataframe thead th {\n",
       "        text-align: right;\n",
       "    }\n",
       "</style>\n",
       "<table border=\"1\" class=\"dataframe\">\n",
       "  <thead>\n",
       "    <tr style=\"text-align: right;\">\n",
       "      <th></th>\n",
       "      <th>count</th>\n",
       "      <th>mean</th>\n",
       "      <th>std</th>\n",
       "      <th>min</th>\n",
       "      <th>25%</th>\n",
       "      <th>50%</th>\n",
       "      <th>75%</th>\n",
       "      <th>max</th>\n",
       "    </tr>\n",
       "  </thead>\n",
       "  <tbody>\n",
       "    <tr>\n",
       "      <th>0</th>\n",
       "      <td>1000.0</td>\n",
       "      <td>0.490294</td>\n",
       "      <td>0.172584</td>\n",
       "      <td>0.0</td>\n",
       "      <td>0.367122</td>\n",
       "      <td>0.496426</td>\n",
       "      <td>0.610264</td>\n",
       "      <td>1.0</td>\n",
       "    </tr>\n",
       "    <tr>\n",
       "      <th>1</th>\n",
       "      <td>1000.0</td>\n",
       "      <td>0.570127</td>\n",
       "      <td>0.165105</td>\n",
       "      <td>0.0</td>\n",
       "      <td>0.454108</td>\n",
       "      <td>0.571210</td>\n",
       "      <td>0.685939</td>\n",
       "      <td>1.0</td>\n",
       "    </tr>\n",
       "  </tbody>\n",
       "</table>\n",
       "</div>"
      ],
      "text/plain": [
       "    count      mean       std  min       25%       50%       75%  max\n",
       "0  1000.0  0.490294  0.172584  0.0  0.367122  0.496426  0.610264  1.0\n",
       "1  1000.0  0.570127  0.165105  0.0  0.454108  0.571210  0.685939  1.0"
      ]
     },
     "metadata": {},
     "output_type": "display_data"
    },
    {
     "data": {
      "text/html": [
       "<div>\n",
       "<style scoped>\n",
       "    .dataframe tbody tr th:only-of-type {\n",
       "        vertical-align: middle;\n",
       "    }\n",
       "\n",
       "    .dataframe tbody tr th {\n",
       "        vertical-align: top;\n",
       "    }\n",
       "\n",
       "    .dataframe thead th {\n",
       "        text-align: right;\n",
       "    }\n",
       "</style>\n",
       "<table border=\"1\" class=\"dataframe\">\n",
       "  <thead>\n",
       "    <tr style=\"text-align: right;\">\n",
       "      <th></th>\n",
       "      <th>0</th>\n",
       "      <th>1</th>\n",
       "    </tr>\n",
       "  </thead>\n",
       "  <tbody>\n",
       "    <tr>\n",
       "      <th>0</th>\n",
       "      <td>1.000000</td>\n",
       "      <td>0.898584</td>\n",
       "    </tr>\n",
       "    <tr>\n",
       "      <th>1</th>\n",
       "      <td>0.898584</td>\n",
       "      <td>1.000000</td>\n",
       "    </tr>\n",
       "  </tbody>\n",
       "</table>\n",
       "</div>"
      ],
      "text/plain": [
       "          0         1\n",
       "0  1.000000  0.898584\n",
       "1  0.898584  1.000000"
      ]
     },
     "metadata": {},
     "output_type": "display_data"
    },
    {
     "data": {
      "image/png": "[encoded data removed]",
      "text/plain": [
       "<Figure size 640x480 with 1 Axes>"
      ]
     },
     "metadata": {},
     "output_type": "display_data"
    }
   ],
   "source": [
    "from sklearn.preprocessing import MinMaxScaler\n",
    "\n",
    "scaler = MinMaxScaler()\n",
    "X2 = scaler.fit_transform(X)\n",
    "\n",
    "df_X2 = pd.DataFrame(X2)\n",
    "display(df_X2.describe().T)\n",
    "display(df_X2.corr())\n",
    "\n",
    "plt.plot( X2[:,0], X2[:,1], '.' )\n",
    "plt.plot( [0,1,1,0,0], [0,0,1,1,0], 'r' )\n",
    "plt.xlim(-6,6)\n",
    "plt.ylim(-6,6)\n",
    "plt.gca().set_aspect('equal')"
   ]
  },
  {
   "cell_type": "markdown",
   "id": "9f3c5f16-cfb0-42c0-9570-b46e87aee622",
   "metadata": {},
   "source": [
    "### PCA (principoal component analysis)"
   ]
  },
  {
   "cell_type": "code",
   "execution_count": 31,
   "id": "71abee76-0506-439a-b7e1-e8b7ce79da52",
   "metadata": {},
   "outputs": [
    {
     "data": {
      "text/html": [
       "<div>\n",
       "<style scoped>\n",
       "    .dataframe tbody tr th:only-of-type {\n",
       "        vertical-align: middle;\n",
       "    }\n",
       "\n",
       "    .dataframe tbody tr th {\n",
       "        vertical-align: top;\n",
       "    }\n",
       "\n",
       "    .dataframe thead th {\n",
       "        text-align: right;\n",
       "    }\n",
       "</style>\n",
       "<table border=\"1\" class=\"dataframe\">\n",
       "  <thead>\n",
       "    <tr style=\"text-align: right;\">\n",
       "      <th></th>\n",
       "      <th>count</th>\n",
       "      <th>mean</th>\n",
       "      <th>std</th>\n",
       "      <th>min</th>\n",
       "      <th>25%</th>\n",
       "      <th>50%</th>\n",
       "      <th>75%</th>\n",
       "      <th>max</th>\n",
       "    </tr>\n",
       "  </thead>\n",
       "  <tbody>\n",
       "    <tr>\n",
       "      <th>0</th>\n",
       "      <td>1000.0</td>\n",
       "      <td>1.154632e-17</td>\n",
       "      <td>1.475615</td>\n",
       "      <td>-4.090949</td>\n",
       "      <td>-1.067534</td>\n",
       "      <td>-0.017262</td>\n",
       "      <td>1.011831</td>\n",
       "      <td>4.773117</td>\n",
       "    </tr>\n",
       "    <tr>\n",
       "      <th>1</th>\n",
       "      <td>1000.0</td>\n",
       "      <td>-3.641532e-17</td>\n",
       "      <td>0.338039</td>\n",
       "      <td>-0.946715</td>\n",
       "      <td>-0.231518</td>\n",
       "      <td>-0.000686</td>\n",
       "      <td>0.228250</td>\n",
       "      <td>1.029940</td>\n",
       "    </tr>\n",
       "  </tbody>\n",
       "</table>\n",
       "</div>"
      ],
      "text/plain": [
       "    count          mean       std       min       25%       50%       75%  \\\n",
       "0  1000.0  1.154632e-17  1.475615 -4.090949 -1.067534 -0.017262  1.011831   \n",
       "1  1000.0 -3.641532e-17  0.338039 -0.946715 -0.231518 -0.000686  0.228250   \n",
       "\n",
       "        max  \n",
       "0  4.773117  \n",
       "1  1.029940  "
      ]
     },
     "metadata": {},
     "output_type": "display_data"
    },
    {
     "data": {
      "text/html": [
       "<div>\n",
       "<style scoped>\n",
       "    .dataframe tbody tr th:only-of-type {\n",
       "        vertical-align: middle;\n",
       "    }\n",
       "\n",
       "    .dataframe tbody tr th {\n",
       "        vertical-align: top;\n",
       "    }\n",
       "\n",
       "    .dataframe thead th {\n",
       "        text-align: right;\n",
       "    }\n",
       "</style>\n",
       "<table border=\"1\" class=\"dataframe\">\n",
       "  <thead>\n",
       "    <tr style=\"text-align: right;\">\n",
       "      <th></th>\n",
       "      <th>0</th>\n",
       "      <th>1</th>\n",
       "    </tr>\n",
       "  </thead>\n",
       "  <tbody>\n",
       "    <tr>\n",
       "      <th>0</th>\n",
       "      <td>1.000000e+00</td>\n",
       "      <td>-1.216460e-16</td>\n",
       "    </tr>\n",
       "    <tr>\n",
       "      <th>1</th>\n",
       "      <td>-1.216460e-16</td>\n",
       "      <td>1.000000e+00</td>\n",
       "    </tr>\n",
       "  </tbody>\n",
       "</table>\n",
       "</div>"
      ],
      "text/plain": [
       "              0             1\n",
       "0  1.000000e+00 -1.216460e-16\n",
       "1 -1.216460e-16  1.000000e+00"
      ]
     },
     "metadata": {},
     "output_type": "display_data"
    },
    {
     "data": {
      "image/png": "[encoded data removed]",
      "text/plain": [
       "<Figure size 640x480 with 1 Axes>"
      ]
     },
     "metadata": {},
     "output_type": "display_data"
    }
   ],
   "source": [
    "from sklearn.decomposition import PCA\n",
    "\n",
    "pca = PCA(n_components=2)\n",
    "X3 = pca.fit_transform(X)\n",
    "\n",
    "df_X3 = pd.DataFrame(X3)\n",
    "display(df_X3.describe().T)\n",
    "display(df_X3.corr())\n",
    "\n",
    "plt.plot( X3[:,0], X3[:,1], '.' )\n",
    "plt.plot( [0,1,1,0,0], [0,0,1,1,0], 'r' )\n",
    "plt.xlim(-6,6)\n",
    "plt.ylim(-6,6)\n",
    "plt.gca().set_aspect('equal')"
   ]
  },
  {
   "cell_type": "markdown",
   "id": "aaf3a0e4-0195-41dc-9323-06445d3058cb",
   "metadata": {},
   "source": [
    "### Binarizer (convert values to binary based on a threshold)"
   ]
  },
  {
   "cell_type": "code",
   "execution_count": 33,
   "id": "dbaab512-9c4f-4f25-a5ee-ca09b12ab8ac",
   "metadata": {},
   "outputs": [
    {
     "name": "stdout",
     "output_type": "stream",
     "text": [
      "[[0.54427867 0.74051783]\n",
      " [0.51446746 0.61048017]\n",
      " [0.35521795 0.62070588]\n",
      " [0.37770572 0.42450117]]\n",
      "[[1. 1.]\n",
      " [1. 1.]\n",
      " [0. 1.]\n",
      " [0. 0.]]\n"
     ]
    }
   ],
   "source": [
    "from sklearn.preprocessing import Binarizer\n",
    "\n",
    "binarizer = Binarizer(threshold=0.5)\n",
    "\n",
    "X4 = binarizer.fit_transform(X2)\n",
    "\n",
    "print(X2[:4,:])\n",
    "print(X4[:4,:])"
   ]
  },
  {
   "cell_type": "markdown",
   "id": "7fb9b119-b5df-4ec9-a45b-d73095bf8dc7",
   "metadata": {},
   "source": [
    "### Preprocessing categorical data"
   ]
  },
  {
   "cell_type": "markdown",
   "id": "1742a307-9b41-4941-aebf-f135e47bc70c",
   "metadata": {},
   "source": [
    "### Create data"
   ]
  },
  {
   "cell_type": "code",
   "execution_count": 38,
   "id": "c8344b8a-72de-4aa5-80d8-0631341b0a24",
   "metadata": {},
   "outputs": [],
   "source": [
    "# note that this is a 1-d array\n",
    "text = np.array( ['cat', 'dog', 'bird', 'cat'] )"
   ]
  },
  {
   "cell_type": "markdown",
   "id": "246dc125-12dc-4fc1-b4c2-44e0acc36bb4",
   "metadata": {},
   "source": [
    "### label encoder"
   ]
  },
  {
   "cell_type": "code",
   "execution_count": 35,
   "id": "500695da-ab87-471e-a238-b41ce55ac971",
   "metadata": {},
   "outputs": [
    {
     "data": {
      "text/plain": [
       "array([1, 2, 0, 1], dtype=int64)"
      ]
     },
     "execution_count": 35,
     "metadata": {},
     "output_type": "execute_result"
    }
   ],
   "source": [
    "from sklearn.preprocessing import LabelEncoder\n",
    "\n",
    "LE = LabelEncoder()\n",
    "text_LE = LE.fit_transform(text)\n",
    "text_LE"
   ]
  },
  {
   "cell_type": "code",
   "execution_count": 36,
   "id": "7e5f0d21-e6e4-4b6d-ac97-28cde64e0f05",
   "metadata": {},
   "outputs": [
    {
     "data": {
      "text/plain": [
       "array(['bird', 'cat', 'dog'], dtype='<U4')"
      ]
     },
     "execution_count": 36,
     "metadata": {},
     "output_type": "execute_result"
    }
   ],
   "source": [
    "LE.classes_"
   ]
  },
  {
   "cell_type": "code",
   "execution_count": 37,
   "id": "fa1eface-679d-48f8-a5d6-5e77baf70fc5",
   "metadata": {},
   "outputs": [
    {
     "data": {
      "text/plain": [
       "array(['cat', 'dog', 'bird', 'cat'], dtype='<U4')"
      ]
     },
     "execution_count": 37,
     "metadata": {},
     "output_type": "execute_result"
    }
   ],
   "source": [
    "LE.inverse_transform(text_LE)"
   ]
  },
  {
   "cell_type": "markdown",
   "id": "5c0e40de-6e41-4de8-8508-bbcfed431fe9",
   "metadata": {},
   "source": [
    "### one hot encoder"
   ]
  },
  {
   "cell_type": "code",
   "execution_count": 39,
   "id": "1e3e9d48-6ed5-4ed0-822b-fb91dfc67f03",
   "metadata": {},
   "outputs": [
    {
     "data": {
      "text/plain": [
       "array([['cat'],\n",
       "       ['dog'],\n",
       "       ['bird'],\n",
       "       ['cat']], dtype='<U4')"
      ]
     },
     "execution_count": 39,
     "metadata": {},
     "output_type": "execute_result"
    }
   ],
   "source": [
    "# note that this is a 2-d array\n",
    "text2 = text[:,np.newaxis]\n",
    "text2"
   ]
  },
  {
   "cell_type": "code",
   "execution_count": 40,
   "id": "e35ba9ca-5069-4f75-be16-9e13d9aca692",
   "metadata": {},
   "outputs": [
    {
     "name": "stderr",
     "output_type": "stream",
     "text": [
      "C:\\Users\\Graham West\\anaconda3\\envs\\csci4900\\lib\\site-packages\\sklearn\\preprocessing\\_encoders.py:972: FutureWarning: `sparse` was renamed to `sparse_output` in version 1.2 and will be removed in 1.4. `sparse_output` is ignored unless you leave `sparse` to its default value.\n",
      "  warnings.warn(\n"
     ]
    },
    {
     "data": {
      "text/plain": [
       "array([[0., 1., 0.],\n",
       "       [0., 0., 1.],\n",
       "       [1., 0., 0.],\n",
       "       [0., 1., 0.]])"
      ]
     },
     "execution_count": 40,
     "metadata": {},
     "output_type": "execute_result"
    }
   ],
   "source": [
    "from sklearn.preprocessing import OneHotEncoder\n",
    "\n",
    "OHE = OneHotEncoder(sparse=False)\n",
    "text2_OHE = OHE.fit_transform(text2)\n",
    "\n",
    "text2_OHE"
   ]
  },
  {
   "cell_type": "code",
   "execution_count": 42,
   "id": "e4527ebc-68e0-4a83-aeda-ef0900b62edb",
   "metadata": {},
   "outputs": [
    {
     "name": "stdout",
     "output_type": "stream",
     "text": [
      "[array(['bird', 'cat', 'dog'], dtype='<U4')]\n"
     ]
    }
   ],
   "source": [
    "print(OHE.categories_)"
   ]
  }
 ],
 "metadata": {
  "kernelspec": {
   "display_name": "CSCI 4900",
   "language": "python",
   "name": "csci4900"
  },
  "language_info": {
   "codemirror_mode": {
    "name": "ipython",
    "version": 3
   },
   "file_extension": ".py",
   "mimetype": "text/x-python",
   "name": "python",
   "nbconvert_exporter": "python",
   "pygments_lexer": "ipython3",
   "version": "3.8.18"
  }
 },
 "nbformat": 4,
 "nbformat_minor": 5
}
