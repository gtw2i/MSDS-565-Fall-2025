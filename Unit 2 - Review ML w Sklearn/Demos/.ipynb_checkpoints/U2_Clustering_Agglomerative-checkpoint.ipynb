{
 "cells": [
  {
   "cell_type": "code",
   "execution_count": 1,
   "id": "dbf2b029-c574-4c6b-88fb-b0150248d5e3",
   "metadata": {},
   "outputs": [],
   "source": [
    "import numpy as np\n",
    "import pandas as pd\n",
    "import matplotlib.pyplot as plt\n",
    "import seaborn as sns\n",
    "\n",
    "pd.set_option('display.max_columns',100)\n",
    "pd.set_option('display.max_rows',100)\n",
    "\n",
    "plt.style.use('dark_background')"
   ]
  },
  {
   "cell_type": "markdown",
   "id": "d5e863d4-8fe4-4af3-8e31-79e882c53f00",
   "metadata": {},
   "source": [
    "# Make data"
   ]
  },
  {
   "cell_type": "code",
   "execution_count": 8,
   "id": "d29d41ee-f53a-412c-9d64-afe6f0b143e0",
   "metadata": {},
   "outputs": [
    {
     "data": {
      "image/png": "[encoded data removed]",
      "text/plain": [
       "<Figure size 640x480 with 1 Axes>"
      ]
     },
     "metadata": {},
     "output_type": "display_data"
    }
   ],
   "source": [
    "from sklearn.datasets import make_blobs\n",
    "\n",
    "# Generate synthetic data using make_blobs\n",
    "X, _ = make_blobs(n_samples=30,\n",
    "                   centers=3,\n",
    "                   cluster_std=0.4,\n",
    "                   random_state=0)\n",
    "\n",
    "#X = np.concatenate((X1,X2),axis=0)\n",
    "\n",
    "X -= np.mean(X,axis=0)\n",
    "\n",
    "MAX = np.max(np.abs(X))*1.2\n",
    "\n",
    "cmap = 'viridis'\n",
    "\n",
    "%matplotlib inline\n",
    "\n",
    "plt.scatter(X[:,0], X[:,1], c='w', s=5);\n",
    "plt.xlim(-MAX,MAX)\n",
    "plt.ylim(-MAX,MAX)\n",
    "plt.gca().set_aspect('equal')"
   ]
  },
  {
   "cell_type": "code",
   "execution_count": 9,
   "id": "cedd9bd1-9cc0-4422-9e31-90995788cac1",
   "metadata": {},
   "outputs": [
    {
     "data": {
      "text/plain": [
       "array([[-0.49958111,  1.88483282],\n",
       "       [-1.99283217,  0.40881307],\n",
       "       [-2.25054346,  0.09365905],\n",
       "       [-2.18588133, -0.23477256],\n",
       "       [ 1.66259123, -1.63147328],\n",
       "       [ 1.11924644,  1.54132208],\n",
       "       [ 1.24549796, -2.57505687],\n",
       "       [-2.3397459 ,  0.39224132],\n",
       "       [ 1.39675139, -1.957968  ],\n",
       "       [-2.23528811,  0.09238385],\n",
       "       [-2.62711842,  0.15238421],\n",
       "       [-1.91058882,  0.07676794],\n",
       "       [-1.95495239,  0.35846908],\n",
       "       [ 2.09272853, -1.30178634],\n",
       "       [ 0.6468419 ,  1.28174709],\n",
       "       [ 0.90165018,  1.5628425 ],\n",
       "       [ 1.44568153, -1.90365938],\n",
       "       [ 0.57923224,  2.20509479],\n",
       "       [-2.30681779, -0.45303272],\n",
       "       [ 0.86738929,  1.32651938],\n",
       "       [ 2.21372394, -1.19499478],\n",
       "       [ 1.61891567, -1.85761182],\n",
       "       [ 0.69916011,  1.75685512],\n",
       "       [ 0.48032727,  1.78762478],\n",
       "       [ 1.42951666,  1.04163911],\n",
       "       [ 1.4614474 , -1.7201987 ],\n",
       "       [ 0.91810418, -1.00242813],\n",
       "       [ 1.18119107, -2.35074546],\n",
       "       [-2.48267742,  0.54847646],\n",
       "       [ 0.82602991,  1.67205539]])"
      ]
     },
     "execution_count": 9,
     "metadata": {},
     "output_type": "execute_result"
    }
   ],
   "source": [
    "X"
   ]
  },
  {
   "cell_type": "markdown",
   "id": "3a00e2fa-18da-4eff-af0e-b40bd199e038",
   "metadata": {},
   "source": [
    "# Agglomerative clustering w/ scipy\n",
    "\n",
    "### 2D dendrogram"
   ]
  },
  {
   "cell_type": "code",
   "execution_count": 12,
   "id": "24e6f6af-9286-4d1a-8587-faa177ccfd7e",
   "metadata": {},
   "outputs": [
    {
     "data": {
      "image/png": "[encoded data removed]",
      "text/plain": [
       "<Figure size 640x480 with 1 Axes>"
      ]
     },
     "metadata": {},
     "output_type": "display_data"
    }
   ],
   "source": [
    "from scipy.cluster.hierarchy import linkage, dendrogram\n",
    "\n",
    "%matplotlib inline\n",
    "\n",
    "link = linkage(X, method='ward')\n",
    "#link = linkage(X, method='complete')\n",
    "\n",
    "dendrogram(link);"
   ]
  },
  {
   "cell_type": "markdown",
   "id": "5642d895-def5-4e3f-ae57-da44e82a6518",
   "metadata": {},
   "source": [
    "### 3D dendrogram"
   ]
  },
  {
   "cell_type": "code",
   "execution_count": 5,
   "id": "9ce25c8e-24e2-4d8e-9fb9-fde6ac5df40e",
   "metadata": {},
   "outputs": [],
   "source": [
    "from mpl_toolkits.mplot3d import Axes3D\n",
    "\n",
    "def get_df_hier( link, XX ):\n",
    "\n",
    "    df = pd.DataFrame( {'x':XX[:,0],\n",
    "                        'y':XX[:,1],\n",
    "                        'd':np.zeros(XX.shape[0]),\n",
    "                        'pts1':list(map(str,range(XX.shape[0]))),\n",
    "                        'pts2':list(map(str,range(XX.shape[0]))),\n",
    "                        'npts':np.ones(XX.shape[0])\n",
    "                       } )\n",
    "\n",
    "    for i in range(len(link)):\n",
    "\n",
    "        c1, c2, d, _ = link[i]\n",
    "        c1 = int(c1)\n",
    "        c2 = int(c2)\n",
    "        #print(f\"Merge clusters {c1}, {c2} at distance {d}\")\n",
    "\n",
    "        pts1 = np.array(df.iloc[c1].pts1.split(',')).astype(int)\n",
    "        pts2 = np.array(df.iloc[c2].pts1.split(',')).astype(int)\n",
    "        pts3 = np.append( pts1, pts2 )\n",
    "\n",
    "        mean = df[['x','y']].iloc[pts3].mean()\n",
    "\n",
    "        df = pd.concat( [ df, pd.Series([mean[0],\n",
    "                                         mean[1],\n",
    "                                         d,\n",
    "                                         ','.join(np.sort(pts3).astype(str)),\n",
    "                                         ','.join(np.sort([c1,c2]).astype(str)),\n",
    "                                         pts3.shape[0]],\n",
    "                                        index=df.columns).to_frame().T ], ignore_index=True )\n",
    "    # end\n",
    "    \n",
    "    return df\n",
    "# end\n",
    "\n",
    "def plot3d_hier(df, X):\n",
    "\n",
    "    fig = plt.figure(figsize=(15,15))\n",
    "    ax = fig.add_subplot(111, projection='3d')\n",
    "\n",
    "    ax.scatter(df.x[:X.shape[0]], df.y[:X.shape[0]], df.d[:X.shape[0]], s=200, c='b')\n",
    "    ax.scatter(df.x[X.shape[0]:], df.y[X.shape[0]:], df.d[X.shape[0]:], s=200, c='r')\n",
    "\n",
    "    ax.w_xaxis.pane.fill = False\n",
    "    ax.w_yaxis.pane.fill = False\n",
    "    ax.w_zaxis.pane.fill = False\n",
    "    ax.set_facecolor('black')\n",
    "\n",
    "    ax.set_xlabel('X Axis')\n",
    "    ax.set_ylabel('Y Axis')\n",
    "    ax.set_zlabel('Z Axis')\n",
    "\n",
    "    for i in range(X.shape[0],df.shape[0]):\n",
    "        pts = np.array(df.iloc[i].pts2.split(',')).astype(int)\n",
    "\n",
    "        x = [ df.x[i], df.x[pts[0]] ]\n",
    "        y = [ df.y[i], df.y[pts[0]] ]\n",
    "        z = [ df.d[i], df.d[pts[0]] ]\n",
    "\n",
    "        ax.plot( x, y, z, c='g', linewidth=6 )\n",
    "\n",
    "        x = [ df.x[i], df.x[pts[1]] ]\n",
    "        y = [ df.y[i], df.y[pts[1]] ]\n",
    "        z = [ df.d[i], df.d[pts[1]] ]\n",
    "\n",
    "        ax.plot( x, y, z, c='g', linewidth=6 )\n",
    "    # end\n",
    "# end"
   ]
  },
  {
   "cell_type": "code",
   "execution_count": 15,
   "id": "6d1ace2b-0110-42d5-9233-121eb18ca0d6",
   "metadata": {},
   "outputs": [
    {
     "name": "stderr",
     "output_type": "stream",
     "text": [
      "C:\\Users\\Graham West\\AppData\\Local\\Temp\\ipykernel_9812\\1685369278.py:46: MatplotlibDeprecationWarning: The w_xaxis attribute was deprecated in Matplotlib 3.1 and will be removed in 3.8. Use xaxis instead.\n",
      "  ax.w_xaxis.pane.fill = False\n",
      "C:\\Users\\Graham West\\AppData\\Local\\Temp\\ipykernel_9812\\1685369278.py:47: MatplotlibDeprecationWarning: The w_yaxis attribute was deprecated in Matplotlib 3.1 and will be removed in 3.8. Use yaxis instead.\n",
      "  ax.w_yaxis.pane.fill = False\n",
      "C:\\Users\\Graham West\\AppData\\Local\\Temp\\ipykernel_9812\\1685369278.py:48: MatplotlibDeprecationWarning: The w_zaxis attribute was deprecated in Matplotlib 3.1 and will be removed in 3.8. Use zaxis instead.\n",
      "  ax.w_zaxis.pane.fill = False\n"
     ]
    }
   ],
   "source": [
    "%matplotlib qt\n",
    "\n",
    "for i in range(len(link)):\n",
    "    cluster1, cluster2, distance, num_points = link[i]\n",
    "    #print(f\"Merge clusters {int(cluster1)}, {int(cluster2)} at distance {distance} with {int(num_points)} points\")\n",
    "# end\n",
    "\n",
    "df = get_df_hier( link, X )\n",
    "\n",
    "plot3d_hier(df, X)"
   ]
  },
  {
   "cell_type": "markdown",
   "id": "a887f602-560c-441f-a657-d21cf41853df",
   "metadata": {},
   "source": [
    "# Agglomerative clustering w/ sklearn"
   ]
  },
  {
   "cell_type": "code",
   "execution_count": 13,
   "id": "027adb86-5cf3-4348-9466-5b02887db2b3",
   "metadata": {},
   "outputs": [
    {
     "data": {
      "image/png": "[encoded data removed]",
      "text/plain": [
       "<Figure size 640x480 with 1 Axes>"
      ]
     },
     "metadata": {},
     "output_type": "display_data"
    }
   ],
   "source": [
    "from sklearn.cluster import AgglomerativeClustering\n",
    "\n",
    "%matplotlib inline\n",
    "\n",
    "n_clusters = 3\n",
    "model = AgglomerativeClustering(n_clusters=n_clusters)\n",
    "\n",
    "labels = model.fit_predict(X)\n",
    "\n",
    "plt.scatter(X[:,0], X[:,1], c=labels, cmap='viridis', s=50);\n",
    "plt.xlim(-MAX,MAX)\n",
    "plt.ylim(-MAX,MAX)\n",
    "plt.gca().set_aspect('equal')"
   ]
  },
  {
   "cell_type": "markdown",
   "id": "51bfbc09-4860-4564-8add-15e41dc4df63",
   "metadata": {},
   "source": [
    "### can't generalize a model to other datasets"
   ]
  },
  {
   "cell_type": "code",
   "execution_count": 14,
   "id": "b3d3f5f1-3184-4ebe-946f-3bb596725389",
   "metadata": {},
   "outputs": [
    {
     "ename": "AttributeError",
     "evalue": "'AgglomerativeClustering' object has no attribute 'predict'",
     "output_type": "error",
     "traceback": [
      "\u001b[1;31m---------------------------------------------------------------------------\u001b[0m",
      "\u001b[1;31mAttributeError\u001b[0m                            Traceback (most recent call last)",
      "Cell \u001b[1;32mIn[14], line 1\u001b[0m\n\u001b[1;32m----> 1\u001b[0m \u001b[43mmodel\u001b[49m\u001b[38;5;241;43m.\u001b[39;49m\u001b[43mpredict\u001b[49m(X)\n",
      "\u001b[1;31mAttributeError\u001b[0m: 'AgglomerativeClustering' object has no attribute 'predict'"
     ]
    }
   ],
   "source": [
    "model.predict(X)"
   ]
  }
 ],
 "metadata": {
  "kernelspec": {
   "display_name": "CSCI 4900",
   "language": "python",
   "name": "csci4900"
  },
  "language_info": {
   "codemirror_mode": {
    "name": "ipython",
    "version": 3
   },
   "file_extension": ".py",
   "mimetype": "text/x-python",
   "name": "python",
   "nbconvert_exporter": "python",
   "pygments_lexer": "ipython3",
   "version": "3.8.18"
  }
 },
 "nbformat": 4,
 "nbformat_minor": 5
}
