{
 "cells": [
  {
   "cell_type": "code",
   "execution_count": 1,
   "id": "d2b1068b-89e4-417c-9c6d-68c053681a5a",
   "metadata": {},
   "outputs": [],
   "source": [
    "import numpy as np\n",
    "import pandas as pd\n",
    "import matplotlib.pyplot as plt\n",
    "import seaborn as sns\n",
    "\n",
    "pd.set_option('display.max_columns',100)\n",
    "pd.set_option('display.max_rows',100)\n",
    "\n",
    "plt.style.use('dark_background')"
   ]
  },
  {
   "cell_type": "code",
   "execution_count": 4,
   "id": "b645575b-9be2-4de7-a657-a971f761d33e",
   "metadata": {},
   "outputs": [],
   "source": [
    "from sklearn.datasets import load_iris\n",
    "from sklearn.model_selection import train_test_split\n",
    "\n",
    "iris = load_iris()\n",
    "X = iris.data\n",
    "y = iris.target\n",
    "\n",
    "X_train, X_test, y_train, y_test = train_test_split(X, y, test_size=0.2)"
   ]
  },
  {
   "cell_type": "code",
   "execution_count": 13,
   "id": "f34f7821-0462-4f56-9c64-fbcbc92be0a6",
   "metadata": {},
   "outputs": [
    {
     "name": "stdout",
     "output_type": "stream",
     "text": [
      "{'max_depth': 3, 'max_leaf_nodes': 4, 'min_samples_split': 2}\n"
     ]
    }
   ],
   "source": [
    "from sklearn.model_selection import GridSearchCV, KFold\n",
    "from sklearn.neighbors import KNeighborsClassifier\n",
    "from sklearn.tree import DecisionTreeClassifier\n",
    "\n",
    "\"\"\"\n",
    "model_start = KNeighborsClassifier()\n",
    "param_grid = {'n_neighbors':np.arange(1,25+1)}\n",
    "\"\"\";\n",
    "\n",
    "#\"\"\"\n",
    "model_start = DecisionTreeClassifier()\n",
    "param_grid = {'max_depth':[3,5,10,12,15],\n",
    "              'max_leaf_nodes':[4,8,12,16,20,24,28,32],\n",
    "              'min_samples_split':[2,5,10]}\n",
    "#\"\"\";\n",
    "\n",
    "# Create a KFold cross-validator with shuffle\n",
    "cv = KFold(n_splits=5, shuffle=True)\n",
    "\n",
    "# Create grid search object to \n",
    "grid_search = GridSearchCV(model_start,\n",
    "                           param_grid,\n",
    "                           scoring='f1_macro',\n",
    "                           cv=cv)\n",
    "\n",
    "# Perform grid search\n",
    "grid_search.fit(X, y)\n",
    "\n",
    "# Get best model and parame\n",
    "model_best = grid_search.best_estimator_\n",
    "params = grid_search.best_params_\n",
    "print(params)\n",
    "\n",
    "y_train_pred = model_best.predict(X_train)\n",
    "y_test_pred = model_best.predict(X_test)"
   ]
  },
  {
   "cell_type": "code",
   "execution_count": 14,
   "id": "2948347b-846b-4f12-b4f2-e40c3bae012d",
   "metadata": {},
   "outputs": [
    {
     "name": "stdout",
     "output_type": "stream",
     "text": [
      "Training Metrics:\n",
      "Training Accuracy:  0.975\n",
      "Training Precision: [1.         0.97142857 0.95      ]\n",
      "Training Recall:    [1.         0.94444444 0.97435897]\n",
      "Training F1 Score:  [1.         0.95774648 0.96202532]\n",
      "Training Confusion Matrix:\n",
      "[[45  0  0]\n",
      " [ 0 34  2]\n",
      " [ 0  1 38]]\n",
      "\n",
      "Testing Metrics:\n",
      "Testing Accuracy:  0.9666666666666667\n",
      "Testing Precision: [1.         1.         0.91666667]\n",
      "Testing Recall:    [1.         0.92857143 1.        ]\n",
      "Testing F1 Score:  [1.         0.96296296 0.95652174]\n",
      "Testing Confusion Matrix:\n",
      "[[ 5  0  0]\n",
      " [ 0 13  1]\n",
      " [ 0  0 11]]\n"
     ]
    }
   ],
   "source": [
    "from sklearn.metrics import accuracy_score, precision_score, recall_score, f1_score, confusion_matrix\n",
    "\n",
    "train_accuracy = accuracy_score(y_train, y_train_pred)\n",
    "train_precision = precision_score(y_train, y_train_pred, average=None)\n",
    "train_recall = recall_score(y_train, y_train_pred, average=None)\n",
    "train_f1 = f1_score(y_train, y_train_pred, average=None)\n",
    "train_conf_matrix = confusion_matrix(y_train, y_train_pred)\n",
    "\n",
    "print('Training Metrics:')\n",
    "print(f'Training Accuracy:  {train_accuracy}')\n",
    "print(f'Training Precision: {train_precision}')\n",
    "print(f'Training Recall:    {train_recall}')\n",
    "print(f'Training F1 Score:  {train_f1}')\n",
    "print('Training Confusion Matrix:')\n",
    "print(train_conf_matrix)\n",
    "\n",
    "test_accuracy = accuracy_score(y_test, y_test_pred)\n",
    "test_precision = precision_score(y_test, y_test_pred, average=None)\n",
    "test_recall = recall_score(y_test, y_test_pred, average=None)\n",
    "test_f1 = f1_score(y_test, y_test_pred, average=None)\n",
    "test_conf_matrix = confusion_matrix(y_test, y_test_pred)\n",
    "\n",
    "print('\\nTesting Metrics:')\n",
    "print(f'Testing Accuracy:  {test_accuracy}')\n",
    "print(f'Testing Precision: {test_precision}')\n",
    "print(f'Testing Recall:    {test_recall}')\n",
    "print(f'Testing F1 Score:  {test_f1}')\n",
    "print('Testing Confusion Matrix:')\n",
    "print(test_conf_matrix)"
   ]
  },
  {
   "cell_type": "code",
   "execution_count": 15,
   "id": "a0b1cf22-2065-4b55-be36-6055d7abdeb9",
   "metadata": {},
   "outputs": [
    {
     "data": {
      "text/plain": [
       "<Axes: >"
      ]
     },
     "execution_count": 15,
     "metadata": {},
     "output_type": "execute_result"
    },
    {
     "data": {
      "image/png": "[encoded data removed]",
      "text/plain": [
       "<Figure size 800x300 with 4 Axes>"
      ]
     },
     "metadata": {},
     "output_type": "display_data"
    }
   ],
   "source": [
    "fig, axes = plt.subplots(nrows=1, ncols=2, figsize=(8,3))\n",
    "\n",
    "sns.heatmap(train_conf_matrix, annot=True, ax=axes[0])\n",
    "sns.heatmap(test_conf_matrix, annot=True, ax=axes[1])"
   ]
  },
  {
   "cell_type": "code",
   "execution_count": null,
   "id": "e9dbbd75-5c6a-4190-838b-1f9ba7562a64",
   "metadata": {},
   "outputs": [],
   "source": []
  }
 ],
 "metadata": {
  "kernelspec": {
   "display_name": "CSCI 4900",
   "language": "python",
   "name": "csci4900"
  },
  "language_info": {
   "codemirror_mode": {
    "name": "ipython",
    "version": 3
   },
   "file_extension": ".py",
   "mimetype": "text/x-python",
   "name": "python",
   "nbconvert_exporter": "python",
   "pygments_lexer": "ipython3",
   "version": "3.8.18"
  }
 },
 "nbformat": 4,
 "nbformat_minor": 5
}
