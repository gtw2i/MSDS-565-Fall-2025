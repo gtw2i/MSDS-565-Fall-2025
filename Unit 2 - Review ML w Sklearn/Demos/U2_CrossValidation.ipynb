{
 "cells": [
  {
   "cell_type": "code",
   "execution_count": 1,
   "id": "aa715739-22ad-48ab-b3bd-88048badbfd0",
   "metadata": {},
   "outputs": [],
   "source": [
    "import numpy as np\n",
    "import pandas as pd\n",
    "import matplotlib.pyplot as plt\n",
    "import seaborn as sns\n",
    "\n",
    "pd.set_option('display.max_columns',100)\n",
    "pd.set_option('display.max_rows',100)\n",
    "\n",
    "plt.style.use('dark_background')"
   ]
  },
  {
   "cell_type": "markdown",
   "id": "442834ce-bb67-4f6f-b4e7-bcf8a5889eb6",
   "metadata": {},
   "source": [
    "# Create data"
   ]
  },
  {
   "cell_type": "code",
   "execution_count": 2,
   "id": "dac16dcf-aa00-471b-8d2c-203a0098a0ac",
   "metadata": {},
   "outputs": [
    {
     "data": {
      "text/plain": [
       "array([[-0.37931721],\n",
       "       [ 0.44562781],\n",
       "       [ 1.10781082],\n",
       "       [-1.05110263],\n",
       "       [ 0.44805555],\n",
       "       [ 1.80263538],\n",
       "       [ 2.08070027],\n",
       "       [ 0.2184581 ],\n",
       "       [ 0.5596365 ],\n",
       "       [-0.35709093],\n",
       "       [ 0.2055956 ],\n",
       "       [-0.75703465],\n",
       "       [ 1.58676903],\n",
       "       [ 1.5124836 ],\n",
       "       [ 0.29349342],\n",
       "       [-1.11499756],\n",
       "       [ 0.55245894],\n",
       "       [ 0.59761238],\n",
       "       [ 2.31423688],\n",
       "       [-1.40455551]])"
      ]
     },
     "execution_count": 2,
     "metadata": {},
     "output_type": "execute_result"
    }
   ],
   "source": [
    "nPts = 20\n",
    "\n",
    "X = np.random.randn(nPts,1)\n",
    "X"
   ]
  },
  {
   "cell_type": "markdown",
   "id": "d336cfc8-d005-4907-b435-ace13ab9b3d2",
   "metadata": {},
   "source": [
    "# Display cross validation"
   ]
  },
  {
   "cell_type": "code",
   "execution_count": 7,
   "id": "4fd79ab0-89b9-4f0f-b5ee-7f51f9095ea9",
   "metadata": {},
   "outputs": [
    {
     "name": "stdout",
     "output_type": "stream",
     "text": [
      "16 4 20\n",
      "16 4 20\n",
      "16 4 20\n",
      "16 4 20\n",
      "16 4 20\n"
     ]
    },
    {
     "data": {
      "image/png": "[encoded data removed]",
      "text/plain": [
       "<Figure size 1000x400 with 2 Axes>"
      ]
     },
     "metadata": {},
     "output_type": "display_data"
    }
   ],
   "source": [
    "from sklearn.model_selection import KFold\n",
    "\n",
    "n_splits = 5\n",
    "\n",
    "kf = KFold(n_splits=n_splits, shuffle=True)\n",
    "\n",
    "matrix = np.zeros((n_splits,nPts))\n",
    "\n",
    "for i, (train_index, test_index) in enumerate(kf.split(X)):\n",
    "    matrix[i,train_index] = 1\n",
    "    matrix[i,test_index] = 0\n",
    "    print(len(train_index),len(test_index),len(X))\n",
    "# end\n",
    "\n",
    "plt.figure(figsize=(10,4))\n",
    "sns.heatmap(matrix, cmap='gray');\n",
    "plt.gca().set_aspect('equal')"
   ]
  },
  {
   "cell_type": "code",
   "execution_count": null,
   "id": "5966ccf6-b136-45fa-85f0-b812196edbde",
   "metadata": {},
   "outputs": [],
   "source": []
  }
 ],
 "metadata": {
  "kernelspec": {
   "display_name": "HAVI",
   "language": "python",
   "name": "havi"
  },
  "language_info": {
   "codemirror_mode": {
    "name": "ipython",
    "version": 3
   },
   "file_extension": ".py",
   "mimetype": "text/x-python",
   "name": "python",
   "nbconvert_exporter": "python",
   "pygments_lexer": "ipython3",
   "version": "3.12.9"
  }
 },
 "nbformat": 4,
 "nbformat_minor": 5
}
