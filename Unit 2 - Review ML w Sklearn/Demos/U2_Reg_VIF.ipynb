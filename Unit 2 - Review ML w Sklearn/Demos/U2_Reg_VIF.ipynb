{
 "cells": [
  {
   "cell_type": "code",
   "execution_count": 2,
   "id": "6d814de7-b58d-48bb-b414-7b8b7413b222",
   "metadata": {},
   "outputs": [],
   "source": [
    "import numpy as np\n",
    "import pandas as pd\n",
    "import matplotlib.pyplot as plt\n",
    "import seaborn as sns\n",
    "\n",
    "pd.set_option('display.max_columns',100)\n",
    "pd.set_option('display.max_rows',100)\n",
    "\n",
    "plt.style.use('dark_background')"
   ]
  },
  {
   "cell_type": "markdown",
   "id": "984f239e-eb8d-412f-a587-e44d58920622",
   "metadata": {},
   "source": [
    "# Variance Inflation Factor (VIF)\n",
    "\n",
    "The **Variance Inflation Factor (VIF)** quantifies how much the variance of an estimated regression coefficient is inflated due to **linear dependence among predictors**.\n",
    "\n",
    "## Setup\n",
    "\n",
    "Suppose we have predictors:\n",
    "\n",
    "$$\n",
    "X_1, X_2, \\dots, X_n\n",
    "$$\n",
    "\n",
    "and we are concerned about collinearity among them.\n",
    "\n",
    "For each predictor $X_j$, we fit an **auxiliary regression**:\n",
    "\n",
    "$$\n",
    "\\hat X_j = \\sum_{\\substack{k=1 \\\\ k \\neq j}}^n \\beta_k X_k\n",
    "$$\n",
    "\n",
    "That is, we try to explain $X_j$ using all of the other predictors.\n",
    "\n",
    "## Definition\n",
    "\n",
    "Let $R_j^2$ be the correlation between the predicted values $\\hat X_j$ and the true values $X_j$.\n",
    "\n",
    "The Variance Inflation Factor for $X_j$ is:\n",
    "\n",
    "$$\n",
    "\\text{VIF}(X_j) = \\frac{1}{1 - R_j^2}\n",
    "$$\n",
    "\n",
    "## Interpretation\n",
    "\n",
    "- If $R_j^2 \\approx 0$, then $\\text{VIF}(X_j) \\approx 1$:  \n",
    "  the predictor is not explained by the others, so there is **no multicollinearity**.\n",
    "\n",
    "- If $R_j^2$ is large, then $\\text{VIF}(X_j)$ is much greater than 1:  \n",
    "  the predictor can be well explained by the others, so its coefficient in a regression will have **inflated variance**.\n",
    "\n",
    "- If $R_j^2 = 1$, then $\\text{VIF}(X_j) = \\infty$:  \n",
    "  predictor $X_j$ is an **exact linear combination** of the others (perfect multicollinearity).\n",
    "\n",
    "## Rule of Thumb\n",
    "\n",
    "- $\\text{VIF} < 5$: Generally acceptable.  \n",
    "- $5 \\leq \\text{VIF} < 10$: Indicates moderate multicollinearity.  \n",
    "- $\\text{VIF} \\geq 10$: Suggests serious multicollinearity issues."
   ]
  },
  {
   "cell_type": "markdown",
   "id": "ffff0e1a-cdd9-4b49-a78f-14868c191767",
   "metadata": {},
   "source": [
    "# Create data"
   ]
  },
  {
   "cell_type": "code",
   "execution_count": 10,
   "id": "971ad10e-3b09-4705-aa4a-a0c0522eaf3d",
   "metadata": {},
   "outputs": [
    {
     "data": {
      "text/html": [
       "<div>\n",
       "<style scoped>\n",
       "    .dataframe tbody tr th:only-of-type {\n",
       "        vertical-align: middle;\n",
       "    }\n",
       "\n",
       "    .dataframe tbody tr th {\n",
       "        vertical-align: top;\n",
       "    }\n",
       "\n",
       "    .dataframe thead th {\n",
       "        text-align: right;\n",
       "    }\n",
       "</style>\n",
       "<table border=\"1\" class=\"dataframe\">\n",
       "  <thead>\n",
       "    <tr style=\"text-align: right;\">\n",
       "      <th></th>\n",
       "      <th>x1</th>\n",
       "      <th>x2</th>\n",
       "      <th>x3</th>\n",
       "    </tr>\n",
       "  </thead>\n",
       "  <tbody>\n",
       "    <tr>\n",
       "      <th>x1</th>\n",
       "      <td>1.000000</td>\n",
       "      <td>0.009533</td>\n",
       "      <td>0.539750</td>\n",
       "    </tr>\n",
       "    <tr>\n",
       "      <th>x2</th>\n",
       "      <td>0.009533</td>\n",
       "      <td>1.000000</td>\n",
       "      <td>-0.836531</td>\n",
       "    </tr>\n",
       "    <tr>\n",
       "      <th>x3</th>\n",
       "      <td>0.539750</td>\n",
       "      <td>-0.836531</td>\n",
       "      <td>1.000000</td>\n",
       "    </tr>\n",
       "  </tbody>\n",
       "</table>\n",
       "</div>"
      ],
      "text/plain": [
       "          x1        x2        x3\n",
       "x1  1.000000  0.009533  0.539750\n",
       "x2  0.009533  1.000000 -0.836531\n",
       "x3  0.539750 -0.836531  1.000000"
      ]
     },
     "execution_count": 10,
     "metadata": {},
     "output_type": "execute_result"
    }
   ],
   "source": [
    "n = 1000\n",
    "x1 = np.random.randn(n)\n",
    "x2 = np.random.randn(n)\n",
    "\n",
    "# Create a third variable that is a linear combination of x1 and x2\n",
    "#x3 = np.random.randn(n)                    # Uncorrelated with x1, x2\n",
    "x3 = 2*x1 - 3*x2 + 0.05*np.random.randn(n) # Correlated with x1, x2\n",
    "#x3 = 2*x1 - 3*x2                          # Perfectly collinear with x1, x2\n",
    "\n",
    "# Put in DataFrame\n",
    "df = pd.DataFrame({\n",
    "    \"x1\": x1,\n",
    "    \"x2\": x2,\n",
    "    \"x3\": x3\n",
    "})\n",
    "\n",
    "df.corr()"
   ]
  },
  {
   "cell_type": "markdown",
   "id": "261fa4c1-c744-440f-a3c4-af4000b29921",
   "metadata": {},
   "source": [
    "# Compute VIF"
   ]
  },
  {
   "cell_type": "code",
   "execution_count": 11,
   "id": "71c7e88b-4193-40e0-b622-fc04b1cd2e75",
   "metadata": {
    "scrolled": true
   },
   "outputs": [
    {
     "name": "stdout",
     "output_type": "stream",
     "text": [
      "Variance Inflation Factors (no constant):\n",
      "x1    1612.879658\n",
      "x2    3794.538308\n",
      "x3    5354.955004\n",
      "dtype: float64\n"
     ]
    }
   ],
   "source": [
    "from statsmodels.stats.outliers_influence import variance_inflation_factor\n",
    "\n",
    "# Compute VIFs without adding a constant\n",
    "vif = pd.Series(\n",
    "    [variance_inflation_factor(df.values, i) \n",
    "     for i in range(df.shape[1])],\n",
    "    index=df.columns\n",
    ")\n",
    "\n",
    "print(\"Variance Inflation Factors (no constant):\")\n",
    "print(vif)\n"
   ]
  },
  {
   "cell_type": "code",
   "execution_count": null,
   "id": "a4bc788e-7df2-4e73-a226-d7a439211841",
   "metadata": {},
   "outputs": [],
   "source": []
  }
 ],
 "metadata": {
  "kernelspec": {
   "display_name": "MSDS 565",
   "language": "python",
   "name": "msds565"
  },
  "language_info": {
   "codemirror_mode": {
    "name": "ipython",
    "version": 3
   },
   "file_extension": ".py",
   "mimetype": "text/x-python",
   "name": "python",
   "nbconvert_exporter": "python",
   "pygments_lexer": "ipython3",
   "version": "3.11.13"
  }
 },
 "nbformat": 4,
 "nbformat_minor": 5
}
